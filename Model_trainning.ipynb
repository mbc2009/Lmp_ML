{
  "cells": [
    {
      "cell_type": "markdown",
      "metadata": {
        "id": "view-in-github",
        "colab_type": "text"
      },
      "source": [
        "<a href=\"https://colab.research.google.com/github/mbc2009/Lmp_ML/blob/main/Model_trainning.ipynb\" target=\"_parent\"><img src=\"https://colab.research.google.com/assets/colab-badge.svg\" alt=\"Open In Colab\"/></a>"
      ]
    },
    {
      "cell_type": "markdown",
      "source": [
        "# 0.Enviornment Initialization"
      ],
      "metadata": {
        "id": "5LSSxtHN4uqm"
      }
    },
    {
      "cell_type": "code",
      "source": [
        "%%capture\n",
        "%%bash\n",
        "\n",
        "# remove unnecessary\n",
        "rm -rf *\n",
        "\n",
        "# update pip\n",
        "python -m pip install --upgrade pip\n",
        "\n",
        "# install package\n",
        "pip install opencv-python pillow\n",
        "pip install segmentation_models_pytorch\n",
        "pip install -q kaggle\n",
        "pip install dropbox\n",
        "pip install scikit-image\n",
        "pip install pandas openpyxl"
      ],
      "metadata": {
        "id": "VkjBZjG7RWAz"
      },
      "execution_count": 117,
      "outputs": []
    },
    {
      "cell_type": "code",
      "source": [
        "# basic import\n",
        "import  os, sys, time, math, random, math, psutil, h5py, re, pickle\n",
        "from    datetime                import datetime\n",
        "from    concurrent.futures      import ThreadPoolExecutor\n",
        "from    typing                  import  List, Tuple\n",
        "from    dropbox                 import  Dropbox\n",
        "from    tqdm                    import  tqdm\n",
        "from    mpl_toolkits.mplot3d    import  Axes3D\n",
        "from    matplotlib              import  pyplot      as plt\n",
        "import  numpy                                       as np\n",
        "import  pandas                                      as pd\n",
        "import  zipfile\n",
        "import  warnings\n",
        "import  shutil\n",
        "import  joblib\n",
        "\n",
        "from    sklearn.preprocessing   import MinMaxScaler\n",
        "from    sklearn.metrics         import r2_score, mean_absolute_error,mean_squared_error,explained_variance_score,mean_squared_log_error\n",
        "from    skimage                 import  io\n",
        "from    sklearn.model_selection import KFold\n",
        "\n",
        "import  scipy\n",
        "from    scipy                   import  interpolate,stats\n",
        "from    scipy.interpolate       import  RegularGridInterpolator\n",
        "from    scipy.ndimage           import  generic_filter, rotate\n",
        "\n",
        "import  torch\n",
        "from    torch                   import  nn\n",
        "from    torch.nn                import  functional  as F\n",
        "import  torch.optim                                 as optim\n",
        "import  torchvision.transforms.functional           as TF\n",
        "from    torch.utils.data        import  Dataset, DataLoader, TensorDataset, random_split, Subset\n",
        "from    torchvision             import  transforms, models\n",
        "from    torchvision.transforms  import  *\n",
        "from    PIL                     import  Image\n",
        "import  kagglehub"
      ],
      "metadata": {
        "id": "ERcbfqGSXFT6"
      },
      "execution_count": 118,
      "outputs": []
    },
    {
      "cell_type": "code",
      "source": [
        "# check hardware\n",
        "print(f\"CPU core #:\\t{os.cpu_count()}\")\n",
        "print(f\"CPU threads #:\\t{psutil.cpu_count(logical=True)}\")\n",
        "print(f\"Total memory:\\t\\t{psutil.virtual_memory().total / (1024**3):.2f} GB\")\n",
        "if torch.cuda.is_available():\n",
        "    gpu_count = torch.cuda.device_count()\n",
        "    print(f\"available GPU #:\\t{gpu_count}\")\n",
        "    for i in range(gpu_count):\n",
        "        gpu_name = torch.cuda.get_device_name(i)\n",
        "        print(f\"GPU {i+1}:\\t\\t{gpu_name}\")\n",
        "else:\n",
        "    print(\"No available GPU\")"
      ],
      "metadata": {
        "colab": {
          "base_uri": "https://localhost:8080/"
        },
        "id": "AnJ7zHLJxbro",
        "outputId": "6f376e7b-acee-4c4f-94ac-b052bdf40581"
      },
      "execution_count": 119,
      "outputs": [
        {
          "output_type": "stream",
          "name": "stdout",
          "text": [
            "CPU core #:\t12\n",
            "CPU threads #:\t12\n",
            "Total memory:\t\t83.48 GB\n",
            "available GPU #:\t1\n",
            "GPU 1:\t\tNVIDIA A100-SXM4-40GB\n"
          ]
        }
      ]
    },
    {
      "cell_type": "markdown",
      "source": [
        "#1. Model Designing"
      ],
      "metadata": {
        "id": "GBCVteWiX60Z"
      }
    },
    {
      "cell_type": "code",
      "source": [
        "class Pure3DCNN(nn.Module):\n",
        "    def __init__(self):\n",
        "        super(Pure3DCNN, self).__init__()\n",
        "        self.conv1 = nn.Conv3d(1, 16, kernel_size=3, stride=1, padding=1)\n",
        "        self.conv2 = nn.Conv3d(16, 32, kernel_size=3, stride=1, padding=1)\n",
        "        self.pool  = nn.MaxPool3d(2, 2)        # 2x2x2 池化，尺寸减半\n",
        "\n",
        "        # 由于去掉 Transformer，fc1 之后直接进入 fc2\n",
        "        self.fc1 = nn.Linear(32 * 32 * 32 * 32, 128)  # CNN 提取的特征\n",
        "        self.fc2 = nn.Linear(128 + 1, 64)  # 额外加入 temp_i（1 维）\n",
        "        self.output_dim = len(conf.DB_items) - 1  # 计算输出维度\n",
        "        self.fc3 = nn.Linear(64, self.output_dim)  # 最终输出层\n",
        "\n",
        "    def forward(self, x, tensor_i):\n",
        "        x = self.pool(F.relu(self.conv1(x.float())))  # 128³ -> 64³\n",
        "        x = self.pool(F.relu(self.conv2(x)))  # 64³ -> 32³\n",
        "        x = x.view(-1, 32 * 32 * 32 * 32)  # 展平\n",
        "\n",
        "        x = F.relu(self.fc1(x))  # fc1 out: CNN 特征提取\n",
        "\n",
        "        temp_i  = tensor_i.unsqueeze(1)  # 只取 temp_i，形状变为 (batch_size, 1)\n",
        "        x       = torch.cat((x, temp_i), dim=1)  # 拼接 temp_i\n",
        "\n",
        "        x = F.relu(self.fc2(x))  # fc2 out: relu\n",
        "        x = self.fc3(x)  # fc3 out: 输出最终结果\n",
        "        return x\n",
        "\n",
        "class ViT3D(nn.Module):\n",
        "    def __init__(self, input_dim=32 * 32 * 32, d_model=128, nhead=4, num_layers=2):\n",
        "        super(ViT3D, self).__init__()\n",
        "        self.fc1 = nn.Linear(input_dim, d_model)\n",
        "        self.encoder_layer = nn.TransformerEncoderLayer(d_model=d_model, nhead=nhead)\n",
        "        self.transformer = nn.TransformerEncoder(self.encoder_layer, num_layers=num_layers)\n",
        "        self.fc2 = nn.Linear(d_model + 1, 64)  # 额外加入 temp_i\n",
        "        self.output_dim = len(conf.DB_items) - 1\n",
        "        self.fc3 = nn.Linear(64, self.output_dim)\n",
        "\n",
        "    def forward(self, x, tensor_i):\n",
        "        x = x.view(x.size(0), -1)  # 展平\n",
        "        x = F.relu(self.fc1(x))\n",
        "        x = x.unsqueeze(0)  # Transformer 输入需要 (seq_len, batch, feature_dim)\n",
        "        x = self.transformer(x)\n",
        "        x = x.squeeze(0)  # 恢复 batch 维度\n",
        "        temp_i = tensor_i.unsqueeze(1)\n",
        "        x = torch.cat((x, temp_i), dim=1)\n",
        "        x = F.relu(self.fc2(x))\n",
        "        x = self.fc3(x)\n",
        "        return x\n",
        "\n",
        "class Swin3D(nn.Module):\n",
        "    def __init__(self, input_dim=32 * 32 * 32, d_model=128, nhead=4, num_layers=2):\n",
        "        super(Swin3D, self).__init__()\n",
        "        self.fc1 = nn.Linear(input_dim, d_model)\n",
        "        self.encoder_layer = nn.TransformerEncoderLayer(d_model=d_model, nhead=nhead)\n",
        "        self.transformer = nn.TransformerEncoder(self.encoder_layer, num_layers=num_layers)\n",
        "        self.fc2 = nn.Linear(d_model + 1, 64)  # 额外加入 temp_i\n",
        "        self.output_dim = len(conf.DB_items) - 1\n",
        "        self.fc3 = nn.Linear(64, self.output_dim)\n",
        "\n",
        "    def forward(self, x, tensor_i):\n",
        "        x = x.view(x.size(0), -1)  # 展平\n",
        "        x = F.relu(self.fc1(x))\n",
        "        x = x.unsqueeze(0)  # Transformer 输入需要 (seq_len, batch, feature_dim)\n",
        "        x = self.transformer(x)\n",
        "        x = x.squeeze(0)  # 恢复 batch 维度\n",
        "        temp_i = tensor_i.unsqueeze(1)\n",
        "        x = torch.cat((x, temp_i), dim=1)\n",
        "        x = F.relu(self.fc2(x))\n",
        "        x = self.fc3(x)\n",
        "        return x\n",
        "\n",
        "class Improved3DCNN(nn.Module):\n",
        "    def __init__(self):\n",
        "        super(Improved3DCNN, self).__init__()\n",
        "        self.conv1  = nn.Conv3d(1,  16, kernel_size=3, stride=1, padding=1)\n",
        "        self.conv2  = nn.Conv3d(16, 32, kernel_size=3, stride=1, padding=1)\n",
        "        self.pool   = nn.MaxPool3d(2, 2)        # 2x2x2 池化，尺寸减半\n",
        "\n",
        "        self.fc1          = nn.Linear(32 * 32 * 32 * 32, 128)               # CNN 提取的特征\n",
        "        self.transformer  = TransformerEncoderLayer(d_model=128, nhead=4)   # Transformer 处理特征\n",
        "        self.fc2          = nn.Linear(128 + 1, 64)          # 只加入 temp_i（1 维）\n",
        "        self.output_dim   = len(conf.DB_items) - 1          # Calculate output dimension\n",
        "        self.fc3          = nn.Linear(64, self.output_dim)  # Output dimension based on conf.DB_items\n",
        "\n",
        "\n",
        "    def forward(self, x, tensor_i):\n",
        "        x = self.pool(F.relu(self.conv1(x.float())))  # 128³ -> 64³\n",
        "        x = self.pool(F.relu(self.conv2(x)))  # 64³ -> 32³\n",
        "        x = x.view(-1, 32 * 32 * 32 * 32)     # 展平\n",
        "\n",
        "        x = F.relu(self.fc1(x))             # fc1 out: CNN 特征提取\n",
        "        x = x.unsqueeze(0)                  # Transformer 输入需要 (seq_len, batch, feature_dim)\n",
        "        x = self.transformer(x)             # 通过 Transformer 处理\n",
        "        x = x.squeeze(0)                    # 恢复 batch 维度\n",
        "\n",
        "        temp_i  = tensor_i.unsqueeze(1)            # 只取 temp_i，形状变为 (batch_size, 1)\n",
        "        x       = torch.cat((x, temp_i), dim=1)    # 拼接 temp_i\n",
        "\n",
        "        x = F.relu(self.fc2(x))             # fc2 out: relu\n",
        "        x = self.fc3(x)                     # fc3 out: 输出最终结果\n",
        "        return x\n",
        "\n",
        "class TransformerEncoderLayer(nn.Module):\n",
        "    def __init__(self, d_model=128, nhead=4, dim_feedforward=256, dropout=0.1):\n",
        "        super(TransformerEncoderLayer, self).__init__()\n",
        "        self.encoder_layer = nn.TransformerEncoderLayer(d_model=d_model, nhead=nhead, dim_feedforward=dim_feedforward, dropout=dropout)\n",
        "        self.transformer   = nn.TransformerEncoder(self.encoder_layer, num_layers=2)\n",
        "\n",
        "    def forward(self, x):\n",
        "        return self.transformer(x)"
      ],
      "metadata": {
        "id": "ieA5bNNfjgJW"
      },
      "execution_count": 120,
      "outputs": []
    },
    {
      "cell_type": "markdown",
      "source": [
        "# 2. Configuration"
      ],
      "metadata": {
        "id": "yl_ViHPRjoYs"
      }
    },
    {
      "cell_type": "code",
      "source": [
        "class Confuration():\n",
        "  # define paths to directory\n",
        "  home_dir                = os.path.expanduser(\"~\")\n",
        "  working_dir             = os.path.join(os.getcwd(),'Lmp_ML')\n",
        "  DataBase_dir            = os.path.join(working_dir,'DataBase')\n",
        "  DB_version              = 5\n",
        "  DB_3D_Grids_density     = 128\n",
        "  DB_3D_Grids_path        = os.path.join(DataBase_dir, f'{DB_version}', f'3D_Grids_{DB_3D_Grids_density}.h5') # TODO: choose database version, here ver=4\n",
        "  DB_Excel_path           = os.path.join(working_dir,  f'LmpGP.xlsx')                                         # TODO: choose database version, here ver=4\n",
        "\n",
        "  # dataset\n",
        "  DB_items                = ['temp\\n(k)',\n",
        "                             #'len\\n(A)',\n",
        "                             'density\\n(g/cm^3)',\n",
        "                             'pore_radius\\n(A)',\n",
        "                             'porosity\\n(unitless)',\n",
        "                             #'bond_density\\n(unitless)',\n",
        "                             'specific_surface_area\\n(m^2/g)',\n",
        "                             #'tortuosity\\n(unitless)'\n",
        "                             'thermal_conductivity\\n(W/(m·K))'\n",
        "                             ]\n",
        "  # training hyperpatameters\n",
        "  device              = torch.device(\"cuda\" if torch.cuda.is_available() else \"cpu\")\n",
        "  model               = Improved3DCNN().to(device) # TODO: select model\n",
        "  criterion           = nn.MSELoss()\n",
        "  optimizer           = optim.Adam\n",
        "  train_mode          = 'k-fold' #'simple'\n",
        "\n",
        "  # debug\n",
        "  dev_mode                = False\n",
        "\n",
        "conf = Confuration()"
      ],
      "metadata": {
        "id": "FW2lJM8WXWUk",
        "colab": {
          "base_uri": "https://localhost:8080/"
        },
        "outputId": "c7b5668a-7fb8-4b38-bf97-6220a6580b81"
      },
      "execution_count": 121,
      "outputs": [
        {
          "output_type": "stream",
          "name": "stderr",
          "text": [
            "/usr/local/lib/python3.11/dist-packages/torch/nn/modules/transformer.py:379: UserWarning: enable_nested_tensor is True, but self.use_nested_tensor is False because encoder_layer.self_attn.batch_first was not True(use batch_first for better inference performance)\n",
            "  warnings.warn(\n"
          ]
        }
      ]
    },
    {
      "cell_type": "code",
      "source": [
        "# import code from git hub\n",
        "!git clone https://github.com/mbc2009/Lmp_ML"
      ],
      "metadata": {
        "colab": {
          "base_uri": "https://localhost:8080/"
        },
        "id": "nla41gbQQuJ5",
        "outputId": "94721bf7-5e03-47d6-e344-b6666626245d"
      },
      "execution_count": 122,
      "outputs": [
        {
          "output_type": "stream",
          "name": "stdout",
          "text": [
            "Cloning into 'Lmp_ML'...\n",
            "remote: Enumerating objects: 683, done.\u001b[K\n",
            "remote: Counting objects: 100% (82/82), done.\u001b[K\n",
            "remote: Compressing objects: 100% (81/81), done.\u001b[K\n",
            "remote: Total 683 (delta 42), reused 0 (delta 0), pack-reused 601 (from 2)\u001b[K\n",
            "Receiving objects: 100% (683/683), 155.93 MiB | 16.10 MiB/s, done.\n",
            "Resolving deltas: 100% (319/319), done.\n"
          ]
        }
      ]
    },
    {
      "cell_type": "code",
      "source": [
        "# make directory\n",
        "os.makedirs(conf.DataBase_dir, exist_ok=True)"
      ],
      "metadata": {
        "id": "pjO4Z6FqrZgE"
      },
      "execution_count": 123,
      "outputs": []
    },
    {
      "cell_type": "code",
      "source": [
        "# download\n",
        "original_path = kagglehub.dataset_download(\"mbc2009/heat-and-mass-transfer\",force_download=True)\n",
        "shutil.move(original_path, conf.DataBase_dir)"
      ],
      "metadata": {
        "colab": {
          "base_uri": "https://localhost:8080/",
          "height": 125
        },
        "id": "z_1Gn-B1mOa9",
        "outputId": "7b40df37-52e9-4cce-f4c9-4c38ef2f86a7"
      },
      "execution_count": 124,
      "outputs": [
        {
          "output_type": "stream",
          "name": "stdout",
          "text": [
            "Downloading from https://www.kaggle.com/api/v1/datasets/download/mbc2009/heat-and-mass-transfer?dataset_version_number=5...\n"
          ]
        },
        {
          "output_type": "stream",
          "name": "stderr",
          "text": [
            "100%|██████████| 1.38G/1.38G [01:03<00:00, 23.5MB/s]"
          ]
        },
        {
          "output_type": "stream",
          "name": "stdout",
          "text": [
            "Extracting files...\n"
          ]
        },
        {
          "output_type": "stream",
          "name": "stderr",
          "text": [
            "\n"
          ]
        },
        {
          "output_type": "execute_result",
          "data": {
            "text/plain": [
              "'/content/Lmp_ML/DataBase/5'"
            ],
            "application/vnd.google.colaboratory.intrinsic+json": {
              "type": "string"
            }
          },
          "metadata": {},
          "execution_count": 124
        }
      ]
    },
    {
      "cell_type": "markdown",
      "source": [
        "# 3.Preparing Database"
      ],
      "metadata": {
        "id": "XNATVGXi3qJS"
      }
    },
    {
      "cell_type": "markdown",
      "source": [
        "## 4.1. Prepare Excel Data Base"
      ],
      "metadata": {
        "id": "xdsVuq64sDWu"
      }
    },
    {
      "cell_type": "code",
      "source": [
        "def check_hdf5_content(file_path:str,PrintStrcut=False)->int:\n",
        "  '''\n",
        "  check the content (name, quantity) of hdf5 file\n",
        "  input:\n",
        "    file_path: the path of hdf5 file\n",
        "    PrintStrcut: print the structure of hdf5 file\n",
        "  return:\n",
        "    the name and quantity of variables in hdf5 file\n",
        "  '''\n",
        "  # 初始化数据集计数器\n",
        "  dataset_count = 0\n",
        "\n",
        "  # 定义一个内部函数用于遍历 HDF5 文件内部\n",
        "  def count_datasets(name, obj):\n",
        "        nonlocal dataset_count\n",
        "        if isinstance(obj, h5py.Dataset):  # 判断是否为数据集\n",
        "            dataset_count += 1\n",
        "        elif isinstance(obj, h5py.Group):  # 判断是否为组\n",
        "            pass  # 如果是组，不计数\n",
        "\n",
        "  with h5py.File(file_path, \"r\") as h5f:\n",
        "\n",
        "        # 遍历文件内容以计数\n",
        "        h5f.visititems(count_datasets)\n",
        "\n",
        "        # 打印所有内变量名字\n",
        "        if PrintStrcut:\n",
        "          print(f\"文件结构:\")\n",
        "          h5f.visit(print)\n",
        "\n",
        "  print(f'文件数: {dataset_count}')\n",
        "\n",
        "  return dataset_count # 文件数\n"
      ],
      "metadata": {
        "id": "T0PhC4SjmZtM"
      },
      "execution_count": 125,
      "outputs": []
    },
    {
      "cell_type": "code",
      "source": [
        "# convert Excel data into pandas data frame\n",
        "df = pd.read_excel(conf.DB_Excel_path, engine=\"openpyxl\")"
      ],
      "metadata": {
        "id": "8G5we5wnsDCL"
      },
      "execution_count": 126,
      "outputs": []
    },
    {
      "cell_type": "code",
      "source": [
        "if conf.dev_mode:\n",
        "  # 打印形状\n",
        "  print(df.shape)\n",
        "\n",
        "  # 读取列名\n",
        "  print(df.columns)"
      ],
      "metadata": {
        "id": "mjSiqXTlhZYT"
      },
      "execution_count": 127,
      "outputs": []
    },
    {
      "cell_type": "code",
      "source": [
        "if conf.dev_mode:\n",
        "  # 筛选列名对应列\n",
        "  df = df.loc[:, ['len\\n(A)', 'sigma\\n(A)', 'temp\\n(k)', 'flux\\n(L/m^2/h)', 'density\\n(g/cm^3)']]"
      ],
      "metadata": {
        "id": "lAes1TjFg59q"
      },
      "execution_count": 128,
      "outputs": []
    },
    {
      "cell_type": "code",
      "source": [
        "def fetch_from_pandas(len_i: int, sigma_i: int, temp_i: int, items: List[str], df: pd.DataFrame) -> torch.Tensor:\n",
        "    \"\"\"\n",
        "    根据 len_i, sigma_i, temp_i 在 pandas DataFrame 中查找指定 items，并返回一个 PyTorch Tensor。\n",
        "\n",
        "    Args:\n",
        "        len_i (int):        目标 len 值\n",
        "        sigma_i (int):      目标 sigma 值\n",
        "        temp_i (int):       目标 temp 值\n",
        "        items (List[str]):  需要提取的列名列表\n",
        "        df (pd.DataFrame):  数据源 Pandas DataFrame\n",
        "\n",
        "    Returns:\n",
        "        Optional[torch.Tensor]: 若找到数据，则返回一个 Float32 类型的 PyTorch Tensor，否则返回 None。\n",
        "    \"\"\"\n",
        "    try:\n",
        "        # 筛选符合条件的行，并提取多个列\n",
        "        item_values = df.loc[\n",
        "            (df[\"len\\n(A)\"] == len_i) &\n",
        "            (df[\"sigma\\n(A)\"] == sigma_i) &\n",
        "            (df[\"temp\\n(k)\"] == temp_i),\n",
        "            items\n",
        "        ]\n",
        "\n",
        "        # 确保只有一行数据，转换为 Tensor\n",
        "        if not item_values.empty:\n",
        "            tensor_values = torch.tensor(item_values.values.flatten(), dtype=torch.float32)\n",
        "            return tensor_values\n",
        "        else:\n",
        "            return None  # 没有匹配数据时返回 None\n",
        "\n",
        "    except KeyError as e:\n",
        "        print(f\"列名错误: {e}\")\n",
        "        return None\n",
        "\n",
        "    except ValueError as e:\n",
        "        print(f\"数据转换错误: {e}\")\n",
        "        return None"
      ],
      "metadata": {
        "id": "ZXqnsln3g0nG"
      },
      "execution_count": 129,
      "outputs": []
    },
    {
      "cell_type": "code",
      "source": [
        "if conf.dev_mode:\n",
        "  # 使用示例\n",
        "  items = fetch_from_pandas(len_i= 2, sigma_i=8, temp_i=373, items=['density\\n(g/cm^3)'], df=df)\n",
        "  print(items[0].item())"
      ],
      "metadata": {
        "id": "3GTSxD6GlDtF"
      },
      "execution_count": 130,
      "outputs": []
    },
    {
      "cell_type": "markdown",
      "source": [
        "## 4.2.Check grid data base"
      ],
      "metadata": {
        "id": "DJ1Jn8Oo4qm1"
      }
    },
    {
      "cell_type": "code",
      "source": [
        "if conf.dev_mode:\n",
        "  # 查看hdf5文件内容\n",
        "  num_grids = check_hdf5_content(conf.DB_3D_Grids_path,PrintStrcut=False)"
      ],
      "metadata": {
        "id": "OinYQCkb46xc"
      },
      "execution_count": 131,
      "outputs": []
    },
    {
      "cell_type": "code",
      "source": [
        "if conf.dev_mode:\n",
        "  # 查看单个数据点\n",
        "  DB_3D_Grids = h5py.File(conf.DB_3D_Grids_path, \"r\")\n",
        "  GA          = DB_3D_Grids[f\"len_{2}_sigma_{18}_{343}\"][:]\n",
        "  print(f'矩阵形状:   {GA.shape}')\n",
        "  print(f'矩阵最大值: {np.max(GA)}')\n",
        "  print(f'矩阵最小值: {np.min(GA)}')\n",
        "  print(f\"矩阵 GA 中 {np.max(GA)} 的数量：{np.count_nonzero(GA == np.max(GA)) }\")"
      ],
      "metadata": {
        "id": "VD-kiwaI6UGt"
      },
      "execution_count": 132,
      "outputs": []
    },
    {
      "cell_type": "code",
      "source": [
        "# 可视化函数\n",
        "def plot_3D_Grid(matrix_3d):\n",
        "    \"\"\"\n",
        "    绘制三维点阵的三视图（正视图、侧视图、俯视图）。\n",
        "\n",
        "    Args:\n",
        "        matrix_3d (numpy.ndarray): 三维点阵数据。\n",
        "\n",
        "    Returns:\n",
        "        None\n",
        "    \"\"\"\n",
        "    # 创建图形和坐标轴\n",
        "    fig, axes = plt.subplots(1, 3, figsize=(15, 5))\n",
        "\n",
        "    # 俯视图 (X-Y 平面)\n",
        "    axes[0].imshow(np.sum(matrix_3d, axis=0), cmap='viridis')  # 沿 Z 轴求和\n",
        "    axes[0].set_title('Top View (X-Y)')\n",
        "    axes[0].set_xlabel('X')\n",
        "    axes[0].set_ylabel('Y')\n",
        "\n",
        "    # 正视图 (Z-X 平面)\n",
        "    axes[1].imshow(np.sum(matrix_3d, axis=1), cmap='viridis')  # 沿 Y 轴求和\n",
        "    axes[1].set_title('Front View (Z-X)')\n",
        "    axes[1].set_xlabel('Z')\n",
        "    axes[1].set_ylabel('X')\n",
        "\n",
        "    # 侧视图 (Z-Y 平面)\n",
        "    axes[2].imshow(np.sum(matrix_3d, axis=2), cmap='viridis')  # 沿 X 轴求和\n",
        "    axes[2].set_title('Side View (Z-Y)')\n",
        "    axes[2].set_xlabel('Z')\n",
        "    axes[2].set_ylabel('Y')\n",
        "\n",
        "    # 显示图形\n",
        "    plt.show()"
      ],
      "metadata": {
        "id": "X0k9E-fD9Rv2"
      },
      "execution_count": 133,
      "outputs": []
    },
    {
      "cell_type": "code",
      "source": [
        "if conf.dev_mode:\n",
        "  plot_3D_Grid(GA)  # 将 GA 替换为你的三维点阵数据"
      ],
      "metadata": {
        "id": "Idw6WbDn_8JK"
      },
      "execution_count": 134,
      "outputs": []
    },
    {
      "cell_type": "markdown",
      "source": [
        "## 4.3.Home-brewing dataset"
      ],
      "metadata": {
        "id": "sh83ztK7I5gt"
      }
    },
    {
      "cell_type": "code",
      "source": [
        "class myDataBase(Dataset):\n",
        "    def __init__(self,\n",
        "                 hdf5_3D_Grids_file_path:str,\n",
        "                 excel_Performance_and_Properties_file_path:str):\n",
        "        '''\n",
        "        name:  'len_{i}_sigma_{j}_temp_{k}'\n",
        "        label: [len_i, sigma_i, temp_i], type: pytorch tensor\n",
        "        structure: 3D grid, type: pytorch tensor\n",
        "        '''\n",
        "        ## GRID\n",
        "        # 3D grids (h5py file)\n",
        "        self.grids_hdf5     = h5py.File(hdf5_3D_Grids_file_path, 'r')\n",
        "        # Sorted name list of all GA structures (h5py file)\n",
        "        self.data_NameList  = self.sort_NameList((self.grids_hdf5.keys()))\n",
        "\n",
        "        ## EXCEL\n",
        "        # Performance & Properties (Excel => PD)\n",
        "        self.PnP_pd = pd.read_excel(excel_Performance_and_Properties_file_path, engine=\"openpyxl\")\n",
        "        self.PnP_pd = self.PnP_pd\n",
        "\n",
        "        # Normalize PD file\n",
        "        self.scaler           = MinMaxScaler()\n",
        "        self.PnP_pd_selected  = self.PnP_pd[conf.DB_items].copy()                # Select desired columns from the original DataFrame\n",
        "        self.PnP_pd_scaled    = self.scaler.fit_transform(self.PnP_pd_selected)  # Scale the selected data\n",
        "        self.PnP_pd_scaled    = pd.DataFrame(self.PnP_pd_scaled,                 # Convert to DataFrame\n",
        "                                          columns=self.PnP_pd_selected.columns)\n",
        "\n",
        "\n",
        "        joblib.dump(self.scaler, \"scaler.pkl\")  # 保存 scaler（用于推理时 inverse_transform 反归一化）\n",
        "        print('Scaler Saved')\n",
        "\n",
        "    def __len__(self):\n",
        "        return len(self.data_NameList)\n",
        "\n",
        "    def __getitem__(self, index):\n",
        "        ## 1. Index ##\n",
        "        # 解析: index -> str\n",
        "        name_i      = self.data_NameList[index]\n",
        "\n",
        "        # 转换: str -> list [len_i, sigma_i, temp_i] -> tensor\n",
        "        label_i     = self.extract_label_from_key(name_i)\n",
        "\n",
        "        ## 2. GRIDS ##\n",
        "        # 提取 (hdf5 => np.ndarray)\n",
        "        grid_i      = self.grids_hdf5[name_i][:]\n",
        "        # 转换: Grids (np.ndarray -> PyTorch tensor)\n",
        "        grid_i      = torch.from_numpy(grid_i)\n",
        "\n",
        "        ## 3. EXCEL ##\n",
        "        # find row index\n",
        "        pd_idx   = self.seek_idx_from_pandas(len_i=label_i[0],\n",
        "                                            sigma_i=label_i[1],\n",
        "                                            temp_i=label_i[2],\n",
        "                                            items=conf.DB_items,\n",
        "                                            df=self.PnP_pd)\n",
        "        # Pandas => tensor ([item1,item2,item3...]\n",
        "        items_i  = self.PnP_pd_scaled.iloc[pd_idx]\n",
        "        items_i  = torch.tensor(items_i.values, dtype=torch.float32)\n",
        "\n",
        "        ## 4. 返回\n",
        "        return torch.tensor(label_i), grid_i, items_i\n",
        "\n",
        "    def close(self):\n",
        "         # 关闭h5文件，防止损坏\n",
        "        self.grids_hdf5.close()\n",
        "\n",
        "    def extract_label_from_key(self, name:str):\n",
        "        # 解析数据点名称为三维张量\n",
        "        len_val   = int(name.split('_')[1])\n",
        "        sigma_val = int(name.split('_')[3])\n",
        "        temp_val  = int(name.split('_')[-1])\n",
        "        label_i   = [len_val, sigma_val, temp_val]\n",
        "        return label_i\n",
        "\n",
        "    def seek_idx_from_pandas(self, len_i:int, sigma_i:int, temp_i:int, items:List[str], df: pd.DataFrame) -> torch.Tensor:\n",
        "        # ... (other parts of the function remain the same) ...\n",
        "\n",
        "        try:\n",
        "            item_idx = df.loc[\n",
        "                (df[\"len\\n(A)\"]   == len_i) &\n",
        "                (df[\"sigma\\n(A)\"] == sigma_i) &\n",
        "                (df[\"temp\\n(k)\"]  == temp_i),\n",
        "                items\n",
        "            ].index\n",
        "\n",
        "            # Check if item_idx is empty before accessing element 0\n",
        "            if len(item_idx) > 0:\n",
        "                return item_idx[0]\n",
        "            else:\n",
        "                # Handle the case where no matching rows are found\n",
        "                print(f\"Warning: No matching rows found for len={len_i}, sigma={sigma_i}, temp={temp_i}: {item_idx}\")\n",
        "                return -1 # or raise ValueError(\"No matching rows found\")\n",
        "\n",
        "        except KeyError as e:\n",
        "            print(f\"列名错误: {e}\")\n",
        "            return None\n",
        "\n",
        "        except ValueError as e:\n",
        "            print(f\"数据转换错误: {e}\")\n",
        "            return None\n",
        "\n",
        "    def sort_NameList(self, strings:str):\n",
        "        # 数据点列表名称排序\n",
        "        def key_func(s):\n",
        "            match = re.match(r\"len_(\\d+)_sigma_(\\d+)_(\\d+)\", s)  # 提取数字\n",
        "            if match:\n",
        "                len_val, sigma_val, temp_val = map(int, match.groups())\n",
        "                return (len_val, sigma_val, -temp_val)  # 第三个数字取反，实现降序\n",
        "            else:\n",
        "                return (float('inf'), float('inf'), float('-inf'))  # 处理不匹配的情况\n",
        "        return sorted(strings, key=key_func)  # 排序"
      ],
      "metadata": {
        "id": "LoTTY1WaJE6V"
      },
      "execution_count": 135,
      "outputs": []
    },
    {
      "cell_type": "code",
      "source": [
        "if conf.dev_mode:\n",
        "  # 创建\n",
        "  dataset = myDataBase(conf.DB_3D_Grids_path,conf.DB_Excel_path)\n",
        "\n",
        "  # 读取\n",
        "  label_i, grid_i, items_i  = dataset[0]\n",
        "  dataset.close() # 关闭读取\n",
        "\n",
        "  # 打印\n",
        "  print(f'{label_i}\\t\\t{type(label_i)}\\n{grid_i.shape}\\t{type(grid_i)}\\n{items_i}\\t{type(items_i)}')"
      ],
      "metadata": {
        "id": "ZjIttRqEnFhM"
      },
      "execution_count": 136,
      "outputs": []
    },
    {
      "cell_type": "code",
      "source": [
        "if conf.dev_mode:\n",
        "  print(dataset.PnP_pd)#.to_string())"
      ],
      "metadata": {
        "id": "VF-TltFg9bP3"
      },
      "execution_count": 137,
      "outputs": []
    },
    {
      "cell_type": "code",
      "source": [
        "if conf.dev_mode:\n",
        "  print(dataset.PnP_pd_scaled.to_string())"
      ],
      "metadata": {
        "id": "yKDUJtuZxx8B"
      },
      "execution_count": 138,
      "outputs": []
    },
    {
      "cell_type": "code",
      "source": [
        "if conf.dev_mode:\n",
        "  # 查看文件名列表\n",
        "  # 长度\n",
        "  print(len(dataset.data_NameList))\n",
        "\n",
        "  # 内容\n",
        "  for i in dataset.data_NameList:\n",
        "      print(i)\n",
        "  dataset.close() # 关闭读取"
      ],
      "metadata": {
        "id": "LKuL5MuG7XVR"
      },
      "execution_count": 139,
      "outputs": []
    },
    {
      "cell_type": "markdown",
      "source": [
        "## 4.4. Data augmentation"
      ],
      "metadata": {
        "id": "w7SXUvb6Bkb9"
      }
    },
    {
      "cell_type": "code",
      "source": [
        "def rotate_3D_Grid(matrix_3d: np.ndarray, angle_degrees: float):\n",
        "    \"\"\"\n",
        "    绕穿过 x-y 平面的中心点且平行于 z 轴的轴旋转三维矩阵。\n",
        "\n",
        "    Args:\n",
        "        matrix_3d (numpy.ndarray): 要旋转的三维矩阵。\n",
        "        angle_degrees (float): 旋转角度（以度为单位，默认逆时针）。\n",
        "\n",
        "    Returns:\n",
        "        numpy.ndarray: 旋转后的三维矩阵。\n",
        "    \"\"\"\n",
        "    rotated_matrix = rotate(matrix_3d,\n",
        "                            angle=-angle_degrees,  # 顺时针旋转\n",
        "                            axes=(1, 2),  # 旋转 x-y 平面，即绕 z 轴旋转\n",
        "                            reshape=False,\n",
        "                            order=0,\n",
        "                            mode='constant',\n",
        "                            cval=0)\n",
        "    return rotated_matrix\n",
        "\n",
        "def multi_threaded_rotation(matrix_3d: np.ndarray):\n",
        "    \"\"\"\n",
        "    并行计算 90°, 180°, 270° 三种旋转后的 3D 矩阵。\n",
        "\n",
        "    Args:\n",
        "        matrix_3d (numpy.ndarray): 要旋转的三维矩阵。\n",
        "\n",
        "    Returns:\n",
        "        dict: 包含 90°, 180°, 270° 旋转后的矩阵。\n",
        "    \"\"\"\n",
        "    angles          = [90, 180, 270]\n",
        "    rotated_results = {}\n",
        "\n",
        "    with ThreadPoolExecutor(max_workers=3) as executor:\n",
        "        results = executor.map(rotate_3D_Grid, [matrix_3d]*3, angles)\n",
        "\n",
        "    # 存储旋转后的矩阵\n",
        "    for angle, rotated_matrix in zip(angles, results):\n",
        "        rotated_results[f\"rotate_{angle}\"] = rotated_matrix\n",
        "\n",
        "    return rotated_results"
      ],
      "metadata": {
        "id": "7un57V8nBiPn"
      },
      "execution_count": 140,
      "outputs": []
    },
    {
      "cell_type": "code",
      "source": [
        "if conf.dev_mode:\n",
        "  # simple case\n",
        "  GA = np.asarray([\n",
        "                  [[2,3,4],  # z = 3\n",
        "                  [1,2,3],\n",
        "                  [0,1,2]],\n",
        "                  [[2,2,2],   # z = 3\n",
        "                  [2,2,2],\n",
        "                  [2,2,2]],\n",
        "                  [[1,1,1],   # z = 2\n",
        "                  [1,1,1],\n",
        "                  [1,1,1]],\n",
        "                  [[0,0,0],   # z = 1\n",
        "                  [0,0,0],\n",
        "                  [0,0,0]],\n",
        "                  [[0,0,0],   # z = 0\n",
        "                  [0,0,0],\n",
        "                  [0,0,0]]]\n",
        "                  )\n",
        "\n",
        "  # 示例测试\n",
        "  rotated_matrices = multi_threaded_rotation(GA)\n",
        "\n",
        "  # 获取旋转后的结果\n",
        "  rotate_90  = rotated_matrices[\"rotate_90\"]\n",
        "  rotate_180 = rotated_matrices[\"rotate_180\"]\n",
        "  rotate_270 = rotated_matrices[\"rotate_270\"]\n",
        "\n",
        "  # 输出形状检查\n",
        "  print(rotate_90.shape, rotate_180.shape, rotate_270.shape)\n",
        "\n",
        "  # plot\n",
        "  plot_3D_Grid(GA)\n",
        "  plot_3D_Grid(rotate_90)\n",
        "  plot_3D_Grid(rotate_180)\n",
        "  plot_3D_Grid(rotate_270)"
      ],
      "metadata": {
        "id": "F60zIc1FCkJk"
      },
      "execution_count": 141,
      "outputs": []
    },
    {
      "cell_type": "code",
      "source": [
        "if conf.dev_mode:\n",
        "  DB_3D_Grids = h5py.File(conf.DB_3D_Grids_path, \"r\")\n",
        "  GA          = DB_3D_Grids[f\"len_{2}_sigma_{18}_{343}\"][:]\n",
        "\n",
        "\n",
        "  # 示例测试\n",
        "  rotated_matrices = multi_threaded_rotation(GA)\n",
        "\n",
        "  # 获取旋转后的结果\n",
        "  rotate_90  = rotated_matrices[\"rotate_90\"]\n",
        "  rotate_180 = rotated_matrices[\"rotate_180\"]\n",
        "  rotate_270 = rotated_matrices[\"rotate_270\"]\n",
        "\n",
        "  # 输出形状检查\n",
        "  print(rotate_90.shape, rotate_180.shape, rotate_270.shape)\n",
        "\n",
        "  # plot\n",
        "  plot_3D_Grid(GA)\n",
        "  plot_3D_Grid(rotate_90)\n",
        "  plot_3D_Grid(rotate_180)\n",
        "  plot_3D_Grid(rotate_270)"
      ],
      "metadata": {
        "id": "jAmVF9uaQqzH"
      },
      "execution_count": 142,
      "outputs": []
    },
    {
      "cell_type": "code",
      "source": [
        "class RotatedDataBase(myDataBase):\n",
        "    \"\"\"\n",
        "    3D 矩阵旋转数据集，返回 90°, 180°, 270° 旋转后的矩阵。\n",
        "    \"\"\"\n",
        "    def __init__(self, base_dataset):\n",
        "        \"\"\"\n",
        "        初始化数据集。\n",
        "\n",
        "        Args:\n",
        "            data_list (list of np.ndarray): 原始 3D 矩阵列表，每个矩阵 shape=(400,400,400)。\n",
        "        \"\"\"\n",
        "        self.base_dataset     = base_dataset                # 原始数据集\n",
        "        self.rotation_angles  = [0, 90, 180, 270]           # 旋转角度\n",
        "        self.num_rotations    = len(self.rotation_angles)   # 旋转次数\n",
        "        #self.data_NameList    = base_dataset.data_NameList  # 数据点列表名称\n",
        "\n",
        "    def __len__(self):\n",
        "        \"\"\"\n",
        "        数据集大小\n",
        "        \"\"\"\n",
        "        return int(len(self.base_dataset)*(self.num_rotations))\n",
        "\n",
        "    def __getitem__(self, new_idx):\n",
        "        \"\"\"\n",
        "        获取数据并返回旋转后的4个版本\n",
        "        Returns:\n",
        "            dict: {\"original\":   原始 3D 矩阵,\n",
        "                   \"rotate_90\":  顺时旋转 90°,\n",
        "                   \"rotate_180\": 顺时旋转 180°,\n",
        "                   \"rotate_270\": 顺时旋转 270°}\n",
        "        \"\"\"\n",
        "        # 计算index\n",
        "        rotation_idx    = new_idx %  (self.num_rotations)  # index within the rotation group\n",
        "        original_idx    = new_idx // (self.num_rotations)  # index in the oringal base dataset\n",
        "\n",
        "        # 原始矩阵\n",
        "        label_i, grid_i, items_i  = self.base_dataset[original_idx]\n",
        "\n",
        "        # 旋转\n",
        "        rotated_grid_i = rotate_3D_Grid(matrix_3d=grid_i, angle_degrees=self.rotation_angles[rotation_idx])\n",
        "\n",
        "        # 确保转换为 float32 的 PyTorch Tensor\n",
        "        rotated_grid_i = torch.from_numpy(rotated_grid_i).to(torch.float32)\n",
        "\n",
        "        # 添加 channel 维度 (channels, depth, height, width) for 3D CNN\n",
        "        #rotated_grid_i = rotated_grid_i.unsqueeze(0)\n",
        "\n",
        "        # 返回\n",
        "        return  label_i, rotated_grid_i, items_i"
      ],
      "metadata": {
        "id": "V9gz6eb3XudQ"
      },
      "execution_count": 143,
      "outputs": []
    },
    {
      "cell_type": "code",
      "source": [
        "if conf.dev_mode:\n",
        "  # 创建\n",
        "  dataset = myDataBase(conf.DB_3D_Grids_path,conf.DB_Excel_path)\n",
        "\n",
        "  # Augmentation\n",
        "  rotated_dataset = RotatedDataBase(dataset)\n",
        "\n",
        "  for idx in [0,1,2,3]:\n",
        "    idx += (11*4)\n",
        "    print(idx)\n",
        "    label_i, grid_i, items_i = rotated_dataset[idx]\n",
        "\n",
        "    print(f'check-{dataset.data_NameList[idx//4]}')\n",
        "\n",
        "    print(label_i, grid_i.shape, items_i)\n",
        "    print(type(grid_i))"
      ],
      "metadata": {
        "id": "kdEF5NDjhXTh"
      },
      "execution_count": 144,
      "outputs": []
    },
    {
      "cell_type": "code",
      "source": [
        "# loader speed test\n",
        "if False:\n",
        "\n",
        "  def load_data_item(dataset, index):\n",
        "      \"\"\"\n",
        "      加载单个数据项\n",
        "      \"\"\"\n",
        "      _, _, _ = dataset[index]\n",
        "\n",
        "\n",
        "  def calculate_loading_time_multithreaded(dataset, num_threads=4):\n",
        "      \"\"\"使用多线程计算加载数据集所需的时间。\"\"\"\n",
        "      start_time = time.time()\n",
        "\n",
        "      with ThreadPoolExecutor(max_workers=num_threads) as executor:\n",
        "          # 创建任务列表，每个任务加载一个数据项\n",
        "          tasks = [executor.submit(load_data_item, dataset, i) for i in range(len(dataset))]\n",
        "\n",
        "          # 使用 tqdm 显示进度条，并等待所有任务完成\n",
        "          for _ in tqdm(tasks, total=len(tasks), desc=\"多线程加载数据集...\"):\n",
        "              _.result()  # 获取任务结果，以确保任务已完成\n",
        "\n",
        "      end_time = time.time()\n",
        "      total_time = end_time - start_time\n",
        "\n",
        "      return total_time\n",
        "\n",
        "\n",
        "  # 创建数据集\n",
        "  dataset = myDataBase(conf.DB_3D_Grids_path, conf.DB_Excel_path)\n",
        "  rotated_dataset = RotatedDataBase(dataset)\n",
        "\n",
        "  # 计算并打印加载时间\n",
        "  loading_time = calculate_loading_time_multithreaded(rotated_dataset, num_threads=int(psutil.cpu_count(logical=True)))\n",
        "  print(f\"使用多线程加载整个 rotated_dataset 所需时间：{loading_time:.2f} 秒\")"
      ],
      "metadata": {
        "id": "-SYAs_dqq1RS"
      },
      "execution_count": 145,
      "outputs": []
    },
    {
      "cell_type": "markdown",
      "source": [
        "## 4.5 Loading Data"
      ],
      "metadata": {
        "id": "AtNcOFfAj9sp"
      }
    },
    {
      "cell_type": "code",
      "source": [
        "# 设定训练集和测试集比例\n",
        "train_ratio = 0.8  # 80% 训练集, 20% 测试集\n",
        "\n",
        "# 读取原始数据\n",
        "dataset = myDataBase(conf.DB_3D_Grids_path, conf.DB_Excel_path)\n",
        "\n",
        "# 计算划分数量\n",
        "train_size = int(train_ratio * len(dataset))\n",
        "test_size  = len(dataset) - train_size\n",
        "\n",
        "# 先在 原始数据 上进行划分\n",
        "indices = list(range(len(dataset)))  # 原始数据索引\n",
        "train_indices, test_indices = random_split(indices, [train_size, test_size])\n",
        "\n",
        "# 创建训练集和测试集的 Subset\n",
        "train_dataset = Subset(dataset, train_indices)\n",
        "test_dataset  = Subset(dataset, test_indices)\n",
        "\n",
        "# 增强训练集\n",
        "train_dataset_augmented = RotatedDataBase(train_dataset)\n",
        "test_dataset_augmented  = test_dataset # testset no need to be augmented"
      ],
      "metadata": {
        "id": "ax_wFWLmkA9q",
        "colab": {
          "base_uri": "https://localhost:8080/"
        },
        "outputId": "f1700482-ae10-41b9-e1d2-a1cb3fb5a80c"
      },
      "execution_count": 146,
      "outputs": [
        {
          "output_type": "stream",
          "name": "stdout",
          "text": [
            "Scaler Saved\n"
          ]
        }
      ]
    },
    {
      "cell_type": "code",
      "source": [
        "# 生成 DataLoader\n",
        "train_loader = DataLoader(train_dataset_augmented, batch_size=32, shuffle=True, num_workers=psutil.cpu_count(logical=True))\n",
        "test_loader  = DataLoader(test_dataset_augmented,  batch_size=32, shuffle=False, num_workers=psutil.cpu_count(logical=True))\n",
        "\n",
        "print(f\"训练集大小: {len(train_dataset_augmented)}, 测试集大小: {len(test_dataset)}\")"
      ],
      "metadata": {
        "id": "qhnW64cxnpSX",
        "outputId": "1c146683-8188-4115-fe42-f1f7587ada69",
        "colab": {
          "base_uri": "https://localhost:8080/"
        }
      },
      "execution_count": 147,
      "outputs": [
        {
          "output_type": "stream",
          "name": "stdout",
          "text": [
            "训练集大小: 2672, 测试集大小: 168\n"
          ]
        }
      ]
    },
    {
      "cell_type": "markdown",
      "source": [
        "# 4.Model Trainning"
      ],
      "metadata": {
        "id": "QMAxND_E7Rb0"
      }
    },
    {
      "cell_type": "code",
      "source": [
        "# initialization\n",
        "model     = conf.model\n",
        "criterion = conf.criterion\n",
        "device    = conf.device\n",
        "\n",
        "train_loss_history  = []\n",
        "val_loss_history    = []\n",
        "torch.cuda.empty_cache() # 清理缓存"
      ],
      "metadata": {
        "id": "BJAUxE_xlVeH"
      },
      "execution_count": 148,
      "outputs": []
    },
    {
      "cell_type": "code",
      "source": [
        "def model_train_simple(num_epochs:int, learning_rate:float):\n",
        "  # 预设\n",
        "  conf.model.train() # 训练模式\n",
        "  opt = conf.optimizer(conf.model.parameters(), lr=learning_rate)\n",
        "\n",
        "  # 训练\n",
        "  for epoch in range(num_epochs):\n",
        "      running_loss = 0.0\n",
        "      for label, grid, items in tqdm(train_loader, desc=f\"Epoch {epoch+1}/{num_epochs}\"):\n",
        "          label, grid, items = label.to(device), grid.to(device), items.to(device)\n",
        "          grid  = grid.unsqueeze(1)  # 添加 channel 维度 (channels, depth, height, width) for 3D CNN\n",
        "          opt.zero_grad()      # 清零 梯度\n",
        "          output = model(grid, items[:, 0])  # TODO: 确保 输入grid + temp_i, 前向传播\n",
        "          loss   = conf.criterion(output, items[:, 1:]) # TODO: 确保 输入 temp_i 以后的\n",
        "          loss.backward()\n",
        "          opt.step()\n",
        "          running_loss += loss.item()\n",
        "\n",
        "      # record\n",
        "      train_loss_history.append(running_loss / len(train_loader))\n",
        "      print(f\"Epoch: {epoch+1}/{num_epochs}, Loss: {running_loss / len(train_loader):.6f}\")\n",
        "\n",
        "\n",
        "def model_train_KFold(num_epochs: int, learning_rate: float, num_fold: int):\n",
        "    # 预设\n",
        "    conf.model.train()  # 训练模式\n",
        "    opt = optim.Adam(conf.model.parameters(), lr=learning_rate)\n",
        "\n",
        "    # KFold 交叉验证\n",
        "    kf = KFold(n_splits=num_fold, shuffle=True)  # 创建 KFold 对象\n",
        "\n",
        "    # 用于存储每个 fold 的验证损失\n",
        "    fold_val_losses = []\n",
        "\n",
        "    for fold, (train_idx, val_idx) in enumerate(kf.split(train_dataset_augmented)):\n",
        "        # print\n",
        "        print(f\"\\nFold {fold + 1}\")\n",
        "\n",
        "        # 使用 Subset 创建训练集和验证集\n",
        "        train_subset = Subset(train_dataset_augmented, train_idx)\n",
        "        val_subset   = Subset(train_dataset_augmented, val_idx)\n",
        "\n",
        "        # 创建 DataLoader\n",
        "        train_loader_fold = DataLoader(train_subset, batch_size=32, shuffle=True,  num_workers=psutil.cpu_count(logical=True))\n",
        "        val_loader_fold   = DataLoader(val_subset,   batch_size=32, shuffle=False, num_workers=psutil.cpu_count(logical=True))\n",
        "\n",
        "        # 初始化 Early stopping 相关变量\n",
        "        best_val_loss               = float('inf')\n",
        "        patience                    = 5  # 设置 patience 值\n",
        "        epochs_without_improvement  = 0\n",
        "\n",
        "        # 训练模型\n",
        "        for epoch in range(num_epochs):\n",
        "            running_loss = 0.0\n",
        "            for label, grid, items in tqdm(train_loader_fold, desc=f\"Epoch {epoch + 1}/{num_epochs}\"):\n",
        "                label, grid, items  = label.to(device), grid.to(device), items.to(device)\n",
        "                grid                = grid.unsqueeze(1)  # 添加 channel 维度\n",
        "                opt.zero_grad()\n",
        "\n",
        "                output  = conf.model(grid, items[:, 0])\n",
        "                loss    = conf.criterion(output, items[:, 1:])\n",
        "\n",
        "                loss.backward()\n",
        "                opt.step()\n",
        "                running_loss += loss.item()\n",
        "\n",
        "            # 计算验证集损失\n",
        "            val_loss = 0.0\n",
        "            with torch.no_grad():\n",
        "                for label, grid, items in val_loader_fold:\n",
        "                    label, grid, items = label.to(device), grid.to(device), items.to(device)\n",
        "                    grid = grid.unsqueeze(1)  # 添加 channel 维度\n",
        "                    output    = conf.model(grid, items[:, 0])\n",
        "                    loss      = conf.criterion(output, items[:, 1:])\n",
        "                    val_loss += loss.item()\n",
        "\n",
        "            val_loss /= len(val_loader_fold)\n",
        "\n",
        "            print(f\"Epoch [{epoch + 1}/{num_epochs}] - Train Loss: {running_loss / len(train_loader_fold):.7f} - Val Loss: {val_loss:.7f}\")\n",
        "\n",
        "            # Record\n",
        "            val_loss_history.append(val_loss)\n",
        "            train_loss_history.append(running_loss/len(train_loader_fold))\n",
        "\n",
        "            # ⚠️ Early Stopping 检查\n",
        "            if val_loss < best_val_loss:\n",
        "                best_val_loss = val_loss\n",
        "                epochs_without_improvement = 0  # reset\n",
        "            else:\n",
        "                epochs_without_improvement += 1\n",
        "                if epochs_without_improvement >= patience:\n",
        "                    print(f\"⚠️ Early stopping triggered at epoch {epoch + 1}\")\n",
        "                    break\n",
        "\n",
        "        # print\n",
        "        fold_val_losses.append(best_val_loss)\n",
        "        print(f\"Fold {fold + 1} Finished - Best Validation Loss: {best_val_loss:.7f}\")\n",
        "\n",
        "    # 计算平均验证损失\n",
        "    avg_val_loss = np.mean(fold_val_losses)\n",
        "    print(f\"✅ \\nAverage Validation Loss across all folds: {avg_val_loss:.7f}\")\n",
        "\n",
        "\n",
        "\n",
        "def plot_loss(plot_val_loss=False):\n",
        "  '''\n",
        "  绘制训练和验证损失曲线\n",
        "  '''\n",
        "  plt.figure(figsize=(10, 5))  # 设置图形大小\n",
        "  plt.plot(train_loss_history, label='Training Loss')\n",
        "  if plot_val_loss:\n",
        "    plt.plot(val_loss_history, label='Validation Loss', color='orange')\n",
        "  plt.xlabel('Iterations')  # 或 'Batches'，更准确\n",
        "  plt.ylabel('Loss (Log Scale)')  # 更新 y 轴标签\n",
        "  plt.title('Training and Validation Loss')\n",
        "  plt.legend()  # 显示图例\n",
        "  plt.grid(True)  # 显示网格\n",
        "  plt.yscale('log')  # 设置 y 轴为对数刻度\n",
        "  plt.show()"
      ],
      "metadata": {
        "id": "rzlNyHN-mS4B"
      },
      "execution_count": 149,
      "outputs": []
    },
    {
      "cell_type": "markdown",
      "source": [
        "## 4.1. OPTION: K-Fold Cross validation"
      ],
      "metadata": {
        "id": "kZBzgaWLuVBF"
      }
    },
    {
      "cell_type": "code",
      "source": [
        "if conf.train_mode == \"k-fold\":\n",
        "  ## Trainning\n",
        "  train_start_time = time.time() # 记录时间\n",
        "  model_train_KFold(num_epochs=20,\n",
        "                    learning_rate=0.0001,\n",
        "                    num_fold=10)\n",
        "\n",
        "  ## Save and Record\n",
        "  torch.save(model.state_dict(), \"3d_cnn_model_v2.pth\") # 再次保存模型\n",
        "  train_end_time = time.time() # 记录时间\n",
        "  trainning_time = train_end_time - train_start_time # 计算训练时间\n",
        "\n",
        "  ## Print\n",
        "  print(\"✅ 继续训练完成，已保存为 `3d_cnn_model_v2.pth`\")\n",
        "  print(f\"🕛 训练耗时: {trainning_time:.2f} 秒\")\n",
        "\n",
        "  ## Plot: loss\n",
        "  plot_loss(plot_val_loss=True)"
      ],
      "metadata": {
        "colab": {
          "base_uri": "https://localhost:8080/",
          "height": 1000
        },
        "id": "hVCpsuZWuMa6",
        "outputId": "7f00106a-d79c-4eca-a291-1114e7ba7153"
      },
      "execution_count": 150,
      "outputs": [
        {
          "output_type": "stream",
          "name": "stdout",
          "text": [
            "\n",
            "Fold 1\n"
          ]
        },
        {
          "output_type": "stream",
          "name": "stderr",
          "text": [
            "Epoch 1/20: 100%|██████████| 76/76 [00:55<00:00,  1.38it/s]\n"
          ]
        },
        {
          "output_type": "stream",
          "name": "stdout",
          "text": [
            "Epoch [1/20] - Train Loss: 0.0644931 - Val Loss: 0.0518759\n"
          ]
        },
        {
          "output_type": "stream",
          "name": "stderr",
          "text": [
            "Epoch 2/20: 100%|██████████| 76/76 [00:54<00:00,  1.39it/s]\n"
          ]
        },
        {
          "output_type": "stream",
          "name": "stdout",
          "text": [
            "Epoch [2/20] - Train Loss: 0.0247147 - Val Loss: 0.0079400\n"
          ]
        },
        {
          "output_type": "stream",
          "name": "stderr",
          "text": [
            "Epoch 3/20: 100%|██████████| 76/76 [00:54<00:00,  1.38it/s]\n"
          ]
        },
        {
          "output_type": "stream",
          "name": "stdout",
          "text": [
            "Epoch [3/20] - Train Loss: 0.0048954 - Val Loss: 0.0057885\n"
          ]
        },
        {
          "output_type": "stream",
          "name": "stderr",
          "text": [
            "Epoch 4/20: 100%|██████████| 76/76 [00:54<00:00,  1.39it/s]\n"
          ]
        },
        {
          "output_type": "stream",
          "name": "stdout",
          "text": [
            "Epoch [4/20] - Train Loss: 0.0032240 - Val Loss: 0.0034262\n"
          ]
        },
        {
          "output_type": "stream",
          "name": "stderr",
          "text": [
            "Epoch 5/20: 100%|██████████| 76/76 [00:55<00:00,  1.37it/s]\n"
          ]
        },
        {
          "output_type": "stream",
          "name": "stdout",
          "text": [
            "Epoch [5/20] - Train Loss: 0.0022861 - Val Loss: 0.0028861\n"
          ]
        },
        {
          "output_type": "stream",
          "name": "stderr",
          "text": [
            "Epoch 6/20: 100%|██████████| 76/76 [00:54<00:00,  1.39it/s]\n"
          ]
        },
        {
          "output_type": "stream",
          "name": "stdout",
          "text": [
            "Epoch [6/20] - Train Loss: 0.0020041 - Val Loss: 0.0021992\n"
          ]
        },
        {
          "output_type": "stream",
          "name": "stderr",
          "text": [
            "Epoch 7/20: 100%|██████████| 76/76 [00:54<00:00,  1.39it/s]\n"
          ]
        },
        {
          "output_type": "stream",
          "name": "stdout",
          "text": [
            "Epoch [7/20] - Train Loss: 0.0015123 - Val Loss: 0.0018085\n"
          ]
        },
        {
          "output_type": "stream",
          "name": "stderr",
          "text": [
            "Epoch 8/20: 100%|██████████| 76/76 [00:55<00:00,  1.37it/s]\n"
          ]
        },
        {
          "output_type": "stream",
          "name": "stdout",
          "text": [
            "Epoch [8/20] - Train Loss: 0.0013624 - Val Loss: 0.0017478\n"
          ]
        },
        {
          "output_type": "stream",
          "name": "stderr",
          "text": [
            "Epoch 9/20: 100%|██████████| 76/76 [00:54<00:00,  1.38it/s]\n"
          ]
        },
        {
          "output_type": "stream",
          "name": "stdout",
          "text": [
            "Epoch [9/20] - Train Loss: 0.0012310 - Val Loss: 0.0014114\n"
          ]
        },
        {
          "output_type": "stream",
          "name": "stderr",
          "text": [
            "Epoch 10/20: 100%|██████████| 76/76 [00:54<00:00,  1.40it/s]\n"
          ]
        },
        {
          "output_type": "stream",
          "name": "stdout",
          "text": [
            "Epoch [10/20] - Train Loss: 0.0010281 - Val Loss: 0.0013152\n"
          ]
        },
        {
          "output_type": "stream",
          "name": "stderr",
          "text": [
            "Epoch 11/20: 100%|██████████| 76/76 [00:55<00:00,  1.36it/s]\n"
          ]
        },
        {
          "output_type": "stream",
          "name": "stdout",
          "text": [
            "Epoch [11/20] - Train Loss: 0.0009938 - Val Loss: 0.0011115\n"
          ]
        },
        {
          "output_type": "stream",
          "name": "stderr",
          "text": [
            "Epoch 12/20: 100%|██████████| 76/76 [00:54<00:00,  1.38it/s]\n"
          ]
        },
        {
          "output_type": "stream",
          "name": "stdout",
          "text": [
            "Epoch [12/20] - Train Loss: 0.0008272 - Val Loss: 0.0009399\n"
          ]
        },
        {
          "output_type": "stream",
          "name": "stderr",
          "text": [
            "Epoch 13/20: 100%|██████████| 76/76 [00:54<00:00,  1.39it/s]\n"
          ]
        },
        {
          "output_type": "stream",
          "name": "stdout",
          "text": [
            "Epoch [13/20] - Train Loss: 0.0007297 - Val Loss: 0.0008637\n"
          ]
        },
        {
          "output_type": "stream",
          "name": "stderr",
          "text": [
            "Epoch 14/20: 100%|██████████| 76/76 [00:55<00:00,  1.38it/s]\n"
          ]
        },
        {
          "output_type": "stream",
          "name": "stdout",
          "text": [
            "Epoch [14/20] - Train Loss: 0.0006846 - Val Loss: 0.0008532\n"
          ]
        },
        {
          "output_type": "stream",
          "name": "stderr",
          "text": [
            "Epoch 15/20: 100%|██████████| 76/76 [00:54<00:00,  1.39it/s]\n"
          ]
        },
        {
          "output_type": "stream",
          "name": "stdout",
          "text": [
            "Epoch [15/20] - Train Loss: 0.0006277 - Val Loss: 0.0006528\n"
          ]
        },
        {
          "output_type": "stream",
          "name": "stderr",
          "text": [
            "Epoch 16/20: 100%|██████████| 76/76 [00:55<00:00,  1.37it/s]\n"
          ]
        },
        {
          "output_type": "stream",
          "name": "stdout",
          "text": [
            "Epoch [16/20] - Train Loss: 0.0005913 - Val Loss: 0.0005812\n"
          ]
        },
        {
          "output_type": "stream",
          "name": "stderr",
          "text": [
            "Epoch 17/20: 100%|██████████| 76/76 [00:55<00:00,  1.38it/s]\n"
          ]
        },
        {
          "output_type": "stream",
          "name": "stdout",
          "text": [
            "Epoch [17/20] - Train Loss: 0.0005456 - Val Loss: 0.0005832\n"
          ]
        },
        {
          "output_type": "stream",
          "name": "stderr",
          "text": [
            "Epoch 18/20: 100%|██████████| 76/76 [00:54<00:00,  1.38it/s]\n"
          ]
        },
        {
          "output_type": "stream",
          "name": "stdout",
          "text": [
            "Epoch [18/20] - Train Loss: 0.0005432 - Val Loss: 0.0007013\n"
          ]
        },
        {
          "output_type": "stream",
          "name": "stderr",
          "text": [
            "Epoch 19/20: 100%|██████████| 76/76 [00:55<00:00,  1.38it/s]\n"
          ]
        },
        {
          "output_type": "stream",
          "name": "stdout",
          "text": [
            "Epoch [19/20] - Train Loss: 0.0005051 - Val Loss: 0.0005403\n"
          ]
        },
        {
          "output_type": "stream",
          "name": "stderr",
          "text": [
            "Epoch 20/20: 100%|██████████| 76/76 [00:55<00:00,  1.37it/s]\n"
          ]
        },
        {
          "output_type": "stream",
          "name": "stdout",
          "text": [
            "Epoch [20/20] - Train Loss: 0.0004471 - Val Loss: 0.0005391\n",
            "Fold 1 Finished - Best Validation Loss: 0.0005391\n",
            "\n",
            "Fold 2\n"
          ]
        },
        {
          "output_type": "stream",
          "name": "stderr",
          "text": [
            "Epoch 1/20: 100%|██████████| 76/76 [00:55<00:00,  1.38it/s]\n"
          ]
        },
        {
          "output_type": "stream",
          "name": "stdout",
          "text": [
            "Epoch [1/20] - Train Loss: 0.0004562 - Val Loss: 0.0003887\n"
          ]
        },
        {
          "output_type": "stream",
          "name": "stderr",
          "text": [
            "Epoch 2/20: 100%|██████████| 76/76 [00:55<00:00,  1.38it/s]\n"
          ]
        },
        {
          "output_type": "stream",
          "name": "stdout",
          "text": [
            "Epoch [2/20] - Train Loss: 0.0004222 - Val Loss: 0.0003643\n"
          ]
        },
        {
          "output_type": "stream",
          "name": "stderr",
          "text": [
            "Epoch 3/20: 100%|██████████| 76/76 [00:55<00:00,  1.38it/s]\n"
          ]
        },
        {
          "output_type": "stream",
          "name": "stdout",
          "text": [
            "Epoch [3/20] - Train Loss: 0.0003761 - Val Loss: 0.0003785\n"
          ]
        },
        {
          "output_type": "stream",
          "name": "stderr",
          "text": [
            "Epoch 4/20: 100%|██████████| 76/76 [00:54<00:00,  1.39it/s]\n"
          ]
        },
        {
          "output_type": "stream",
          "name": "stdout",
          "text": [
            "Epoch [4/20] - Train Loss: 0.0003430 - Val Loss: 0.0003846\n"
          ]
        },
        {
          "output_type": "stream",
          "name": "stderr",
          "text": [
            "Epoch 5/20: 100%|██████████| 76/76 [00:54<00:00,  1.38it/s]\n"
          ]
        },
        {
          "output_type": "stream",
          "name": "stdout",
          "text": [
            "Epoch [5/20] - Train Loss: 0.0003607 - Val Loss: 0.0003654\n"
          ]
        },
        {
          "output_type": "stream",
          "name": "stderr",
          "text": [
            "Epoch 6/20: 100%|██████████| 76/76 [00:55<00:00,  1.38it/s]\n"
          ]
        },
        {
          "output_type": "stream",
          "name": "stdout",
          "text": [
            "Epoch [6/20] - Train Loss: 0.0003412 - Val Loss: 0.0003487\n"
          ]
        },
        {
          "output_type": "stream",
          "name": "stderr",
          "text": [
            "Epoch 7/20: 100%|██████████| 76/76 [00:57<00:00,  1.33it/s]\n"
          ]
        },
        {
          "output_type": "stream",
          "name": "stdout",
          "text": [
            "Epoch [7/20] - Train Loss: 0.0003568 - Val Loss: 0.0005654\n"
          ]
        },
        {
          "output_type": "stream",
          "name": "stderr",
          "text": [
            "Epoch 8/20: 100%|██████████| 76/76 [00:56<00:00,  1.34it/s]\n"
          ]
        },
        {
          "output_type": "stream",
          "name": "stdout",
          "text": [
            "Epoch [8/20] - Train Loss: 0.0003385 - Val Loss: 0.0002882\n"
          ]
        },
        {
          "output_type": "stream",
          "name": "stderr",
          "text": [
            "Epoch 9/20: 100%|██████████| 76/76 [00:55<00:00,  1.36it/s]\n"
          ]
        },
        {
          "output_type": "stream",
          "name": "stdout",
          "text": [
            "Epoch [9/20] - Train Loss: 0.0002766 - Val Loss: 0.0002767\n"
          ]
        },
        {
          "output_type": "stream",
          "name": "stderr",
          "text": [
            "Epoch 10/20: 100%|██████████| 76/76 [00:54<00:00,  1.38it/s]\n"
          ]
        },
        {
          "output_type": "stream",
          "name": "stdout",
          "text": [
            "Epoch [10/20] - Train Loss: 0.0002652 - Val Loss: 0.0002795\n"
          ]
        },
        {
          "output_type": "stream",
          "name": "stderr",
          "text": [
            "Epoch 11/20: 100%|██████████| 76/76 [00:55<00:00,  1.38it/s]\n"
          ]
        },
        {
          "output_type": "stream",
          "name": "stdout",
          "text": [
            "Epoch [11/20] - Train Loss: 0.0002436 - Val Loss: 0.0002875\n"
          ]
        },
        {
          "output_type": "stream",
          "name": "stderr",
          "text": [
            "Epoch 12/20: 100%|██████████| 76/76 [00:55<00:00,  1.37it/s]\n"
          ]
        },
        {
          "output_type": "stream",
          "name": "stdout",
          "text": [
            "Epoch [12/20] - Train Loss: 0.0002839 - Val Loss: 0.0004519\n"
          ]
        },
        {
          "output_type": "stream",
          "name": "stderr",
          "text": [
            "Epoch 13/20: 100%|██████████| 76/76 [00:54<00:00,  1.39it/s]\n"
          ]
        },
        {
          "output_type": "stream",
          "name": "stdout",
          "text": [
            "Epoch [13/20] - Train Loss: 0.0002689 - Val Loss: 0.0002062\n"
          ]
        },
        {
          "output_type": "stream",
          "name": "stderr",
          "text": [
            "Epoch 14/20: 100%|██████████| 76/76 [00:54<00:00,  1.38it/s]\n"
          ]
        },
        {
          "output_type": "stream",
          "name": "stdout",
          "text": [
            "Epoch [14/20] - Train Loss: 0.0002429 - Val Loss: 0.0002791\n"
          ]
        },
        {
          "output_type": "stream",
          "name": "stderr",
          "text": [
            "Epoch 15/20: 100%|██████████| 76/76 [00:54<00:00,  1.38it/s]\n"
          ]
        },
        {
          "output_type": "stream",
          "name": "stdout",
          "text": [
            "Epoch [15/20] - Train Loss: 0.0002377 - Val Loss: 0.0002256\n"
          ]
        },
        {
          "output_type": "stream",
          "name": "stderr",
          "text": [
            "Epoch 16/20: 100%|██████████| 76/76 [00:54<00:00,  1.38it/s]\n"
          ]
        },
        {
          "output_type": "stream",
          "name": "stdout",
          "text": [
            "Epoch [16/20] - Train Loss: 0.0002239 - Val Loss: 0.0002077\n"
          ]
        },
        {
          "output_type": "stream",
          "name": "stderr",
          "text": [
            "Epoch 17/20: 100%|██████████| 76/76 [00:55<00:00,  1.38it/s]\n"
          ]
        },
        {
          "output_type": "stream",
          "name": "stdout",
          "text": [
            "Epoch [17/20] - Train Loss: 0.0002130 - Val Loss: 0.0002725\n"
          ]
        },
        {
          "output_type": "stream",
          "name": "stderr",
          "text": [
            "Epoch 18/20: 100%|██████████| 76/76 [00:54<00:00,  1.40it/s]\n"
          ]
        },
        {
          "output_type": "stream",
          "name": "stdout",
          "text": [
            "Epoch [18/20] - Train Loss: 0.0001976 - Val Loss: 0.0002178\n",
            "⚠️ Early stopping triggered at epoch 18\n",
            "Fold 2 Finished - Best Validation Loss: 0.0002062\n",
            "\n",
            "Fold 3\n"
          ]
        },
        {
          "output_type": "stream",
          "name": "stderr",
          "text": [
            "Epoch 1/20: 100%|██████████| 76/76 [00:54<00:00,  1.38it/s]\n"
          ]
        },
        {
          "output_type": "stream",
          "name": "stdout",
          "text": [
            "Epoch [1/20] - Train Loss: 0.0002276 - Val Loss: 0.0002224\n"
          ]
        },
        {
          "output_type": "stream",
          "name": "stderr",
          "text": [
            "Epoch 2/20: 100%|██████████| 76/76 [00:54<00:00,  1.38it/s]\n"
          ]
        },
        {
          "output_type": "stream",
          "name": "stdout",
          "text": [
            "Epoch [2/20] - Train Loss: 0.0002232 - Val Loss: 0.0001826\n"
          ]
        },
        {
          "output_type": "stream",
          "name": "stderr",
          "text": [
            "Epoch 3/20: 100%|██████████| 76/76 [00:54<00:00,  1.39it/s]\n"
          ]
        },
        {
          "output_type": "stream",
          "name": "stdout",
          "text": [
            "Epoch [3/20] - Train Loss: 0.0001961 - Val Loss: 0.0001765\n"
          ]
        },
        {
          "output_type": "stream",
          "name": "stderr",
          "text": [
            "Epoch 4/20: 100%|██████████| 76/76 [00:54<00:00,  1.38it/s]\n"
          ]
        },
        {
          "output_type": "stream",
          "name": "stdout",
          "text": [
            "Epoch [4/20] - Train Loss: 0.0002122 - Val Loss: 0.0002017\n"
          ]
        },
        {
          "output_type": "stream",
          "name": "stderr",
          "text": [
            "Epoch 5/20: 100%|██████████| 76/76 [00:55<00:00,  1.38it/s]\n"
          ]
        },
        {
          "output_type": "stream",
          "name": "stdout",
          "text": [
            "Epoch [5/20] - Train Loss: 0.0001983 - Val Loss: 0.0001852\n"
          ]
        },
        {
          "output_type": "stream",
          "name": "stderr",
          "text": [
            "Epoch 6/20: 100%|██████████| 76/76 [00:55<00:00,  1.37it/s]\n"
          ]
        },
        {
          "output_type": "stream",
          "name": "stdout",
          "text": [
            "Epoch [6/20] - Train Loss: 0.0002033 - Val Loss: 0.0001444\n"
          ]
        },
        {
          "output_type": "stream",
          "name": "stderr",
          "text": [
            "Epoch 7/20: 100%|██████████| 76/76 [00:55<00:00,  1.38it/s]\n"
          ]
        },
        {
          "output_type": "stream",
          "name": "stdout",
          "text": [
            "Epoch [7/20] - Train Loss: 0.0001646 - Val Loss: 0.0001453\n"
          ]
        },
        {
          "output_type": "stream",
          "name": "stderr",
          "text": [
            "Epoch 8/20: 100%|██████████| 76/76 [00:54<00:00,  1.39it/s]\n"
          ]
        },
        {
          "output_type": "stream",
          "name": "stdout",
          "text": [
            "Epoch [8/20] - Train Loss: 0.0001737 - Val Loss: 0.0001920\n"
          ]
        },
        {
          "output_type": "stream",
          "name": "stderr",
          "text": [
            "Epoch 9/20: 100%|██████████| 76/76 [00:55<00:00,  1.38it/s]\n"
          ]
        },
        {
          "output_type": "stream",
          "name": "stdout",
          "text": [
            "Epoch [9/20] - Train Loss: 0.0001681 - Val Loss: 0.0004086\n"
          ]
        },
        {
          "output_type": "stream",
          "name": "stderr",
          "text": [
            "Epoch 10/20: 100%|██████████| 76/76 [00:55<00:00,  1.37it/s]\n"
          ]
        },
        {
          "output_type": "stream",
          "name": "stdout",
          "text": [
            "Epoch [10/20] - Train Loss: 0.0001721 - Val Loss: 0.0001791\n"
          ]
        },
        {
          "output_type": "stream",
          "name": "stderr",
          "text": [
            "Epoch 11/20: 100%|██████████| 76/76 [00:54<00:00,  1.39it/s]\n"
          ]
        },
        {
          "output_type": "stream",
          "name": "stdout",
          "text": [
            "Epoch [11/20] - Train Loss: 0.0001710 - Val Loss: 0.0002095\n",
            "⚠️ Early stopping triggered at epoch 11\n",
            "Fold 3 Finished - Best Validation Loss: 0.0001444\n",
            "\n",
            "Fold 4\n"
          ]
        },
        {
          "output_type": "stream",
          "name": "stderr",
          "text": [
            "Epoch 1/20: 100%|██████████| 76/76 [00:54<00:00,  1.38it/s]\n"
          ]
        },
        {
          "output_type": "stream",
          "name": "stdout",
          "text": [
            "Epoch [1/20] - Train Loss: 0.0001487 - Val Loss: 0.0001635\n"
          ]
        },
        {
          "output_type": "stream",
          "name": "stderr",
          "text": [
            "Epoch 2/20: 100%|██████████| 76/76 [00:55<00:00,  1.37it/s]\n"
          ]
        },
        {
          "output_type": "stream",
          "name": "stdout",
          "text": [
            "Epoch [2/20] - Train Loss: 0.0001586 - Val Loss: 0.0001720\n"
          ]
        },
        {
          "output_type": "stream",
          "name": "stderr",
          "text": [
            "Epoch 3/20: 100%|██████████| 76/76 [00:54<00:00,  1.39it/s]\n"
          ]
        },
        {
          "output_type": "stream",
          "name": "stdout",
          "text": [
            "Epoch [3/20] - Train Loss: 0.0001479 - Val Loss: 0.0001130\n"
          ]
        },
        {
          "output_type": "stream",
          "name": "stderr",
          "text": [
            "Epoch 4/20: 100%|██████████| 76/76 [00:55<00:00,  1.38it/s]\n"
          ]
        },
        {
          "output_type": "stream",
          "name": "stdout",
          "text": [
            "Epoch [4/20] - Train Loss: 0.0001468 - Val Loss: 0.0001420\n"
          ]
        },
        {
          "output_type": "stream",
          "name": "stderr",
          "text": [
            "Epoch 5/20: 100%|██████████| 76/76 [00:54<00:00,  1.38it/s]\n"
          ]
        },
        {
          "output_type": "stream",
          "name": "stdout",
          "text": [
            "Epoch [5/20] - Train Loss: 0.0001376 - Val Loss: 0.0002641\n"
          ]
        },
        {
          "output_type": "stream",
          "name": "stderr",
          "text": [
            "Epoch 6/20: 100%|██████████| 76/76 [00:54<00:00,  1.38it/s]\n"
          ]
        },
        {
          "output_type": "stream",
          "name": "stdout",
          "text": [
            "Epoch [6/20] - Train Loss: 0.0001687 - Val Loss: 0.0001075\n"
          ]
        },
        {
          "output_type": "stream",
          "name": "stderr",
          "text": [
            "Epoch 7/20: 100%|██████████| 76/76 [00:54<00:00,  1.39it/s]\n"
          ]
        },
        {
          "output_type": "stream",
          "name": "stdout",
          "text": [
            "Epoch [7/20] - Train Loss: 0.0001331 - Val Loss: 0.0001292\n"
          ]
        },
        {
          "output_type": "stream",
          "name": "stderr",
          "text": [
            "Epoch 8/20: 100%|██████████| 76/76 [00:55<00:00,  1.37it/s]\n"
          ]
        },
        {
          "output_type": "stream",
          "name": "stdout",
          "text": [
            "Epoch [8/20] - Train Loss: 0.0001470 - Val Loss: 0.0001448\n"
          ]
        },
        {
          "output_type": "stream",
          "name": "stderr",
          "text": [
            "Epoch 9/20: 100%|██████████| 76/76 [00:55<00:00,  1.37it/s]\n"
          ]
        },
        {
          "output_type": "stream",
          "name": "stdout",
          "text": [
            "Epoch [9/20] - Train Loss: 0.0001393 - Val Loss: 0.0001176\n"
          ]
        },
        {
          "output_type": "stream",
          "name": "stderr",
          "text": [
            "Epoch 10/20: 100%|██████████| 76/76 [00:55<00:00,  1.38it/s]\n"
          ]
        },
        {
          "output_type": "stream",
          "name": "stdout",
          "text": [
            "Epoch [10/20] - Train Loss: 0.0001232 - Val Loss: 0.0001714\n"
          ]
        },
        {
          "output_type": "stream",
          "name": "stderr",
          "text": [
            "Epoch 11/20: 100%|██████████| 76/76 [00:55<00:00,  1.38it/s]\n"
          ]
        },
        {
          "output_type": "stream",
          "name": "stdout",
          "text": [
            "Epoch [11/20] - Train Loss: 0.0001382 - Val Loss: 0.0001023\n"
          ]
        },
        {
          "output_type": "stream",
          "name": "stderr",
          "text": [
            "Epoch 12/20: 100%|██████████| 76/76 [00:55<00:00,  1.36it/s]\n"
          ]
        },
        {
          "output_type": "stream",
          "name": "stdout",
          "text": [
            "Epoch [12/20] - Train Loss: 0.0001459 - Val Loss: 0.0001480\n"
          ]
        },
        {
          "output_type": "stream",
          "name": "stderr",
          "text": [
            "Epoch 13/20: 100%|██████████| 76/76 [00:54<00:00,  1.39it/s]\n"
          ]
        },
        {
          "output_type": "stream",
          "name": "stdout",
          "text": [
            "Epoch [13/20] - Train Loss: 0.0001408 - Val Loss: 0.0001017\n"
          ]
        },
        {
          "output_type": "stream",
          "name": "stderr",
          "text": [
            "Epoch 14/20: 100%|██████████| 76/76 [00:54<00:00,  1.39it/s]\n"
          ]
        },
        {
          "output_type": "stream",
          "name": "stdout",
          "text": [
            "Epoch [14/20] - Train Loss: 0.0001297 - Val Loss: 0.0001114\n"
          ]
        },
        {
          "output_type": "stream",
          "name": "stderr",
          "text": [
            "Epoch 15/20: 100%|██████████| 76/76 [00:55<00:00,  1.38it/s]\n"
          ]
        },
        {
          "output_type": "stream",
          "name": "stdout",
          "text": [
            "Epoch [15/20] - Train Loss: 0.0001162 - Val Loss: 0.0001089\n"
          ]
        },
        {
          "output_type": "stream",
          "name": "stderr",
          "text": [
            "Epoch 16/20: 100%|██████████| 76/76 [00:55<00:00,  1.38it/s]\n"
          ]
        },
        {
          "output_type": "stream",
          "name": "stdout",
          "text": [
            "Epoch [16/20] - Train Loss: 0.0001127 - Val Loss: 0.0001063\n"
          ]
        },
        {
          "output_type": "stream",
          "name": "stderr",
          "text": [
            "Epoch 17/20: 100%|██████████| 76/76 [00:54<00:00,  1.39it/s]\n"
          ]
        },
        {
          "output_type": "stream",
          "name": "stdout",
          "text": [
            "Epoch [17/20] - Train Loss: 0.0001065 - Val Loss: 0.0001120\n"
          ]
        },
        {
          "output_type": "stream",
          "name": "stderr",
          "text": [
            "Epoch 18/20: 100%|██████████| 76/76 [00:55<00:00,  1.37it/s]\n"
          ]
        },
        {
          "output_type": "stream",
          "name": "stdout",
          "text": [
            "Epoch [18/20] - Train Loss: 0.0001216 - Val Loss: 0.0001940\n",
            "⚠️ Early stopping triggered at epoch 18\n",
            "Fold 4 Finished - Best Validation Loss: 0.0001017\n",
            "\n",
            "Fold 5\n"
          ]
        },
        {
          "output_type": "stream",
          "name": "stderr",
          "text": [
            "Epoch 1/20: 100%|██████████| 76/76 [00:55<00:00,  1.37it/s]\n"
          ]
        },
        {
          "output_type": "stream",
          "name": "stdout",
          "text": [
            "Epoch [1/20] - Train Loss: 0.0001217 - Val Loss: 0.0001338\n"
          ]
        },
        {
          "output_type": "stream",
          "name": "stderr",
          "text": [
            "Epoch 2/20: 100%|██████████| 76/76 [00:54<00:00,  1.38it/s]\n"
          ]
        },
        {
          "output_type": "stream",
          "name": "stdout",
          "text": [
            "Epoch [2/20] - Train Loss: 0.0001206 - Val Loss: 0.0001137\n"
          ]
        },
        {
          "output_type": "stream",
          "name": "stderr",
          "text": [
            "Epoch 3/20: 100%|██████████| 76/76 [00:55<00:00,  1.36it/s]\n"
          ]
        },
        {
          "output_type": "stream",
          "name": "stdout",
          "text": [
            "Epoch [3/20] - Train Loss: 0.0001282 - Val Loss: 0.0001457\n"
          ]
        },
        {
          "output_type": "stream",
          "name": "stderr",
          "text": [
            "Epoch 4/20: 100%|██████████| 76/76 [00:55<00:00,  1.37it/s]\n"
          ]
        },
        {
          "output_type": "stream",
          "name": "stdout",
          "text": [
            "Epoch [4/20] - Train Loss: 0.0001133 - Val Loss: 0.0001419\n"
          ]
        },
        {
          "output_type": "stream",
          "name": "stderr",
          "text": [
            "Epoch 5/20: 100%|██████████| 76/76 [00:54<00:00,  1.38it/s]\n"
          ]
        },
        {
          "output_type": "stream",
          "name": "stdout",
          "text": [
            "Epoch [5/20] - Train Loss: 0.0001146 - Val Loss: 0.0001323\n"
          ]
        },
        {
          "output_type": "stream",
          "name": "stderr",
          "text": [
            "Epoch 6/20: 100%|██████████| 76/76 [00:55<00:00,  1.37it/s]\n"
          ]
        },
        {
          "output_type": "stream",
          "name": "stdout",
          "text": [
            "Epoch [6/20] - Train Loss: 0.0001097 - Val Loss: 0.0000999\n"
          ]
        },
        {
          "output_type": "stream",
          "name": "stderr",
          "text": [
            "Epoch 7/20: 100%|██████████| 76/76 [00:55<00:00,  1.38it/s]\n"
          ]
        },
        {
          "output_type": "stream",
          "name": "stdout",
          "text": [
            "Epoch [7/20] - Train Loss: 0.0001022 - Val Loss: 0.0001452\n"
          ]
        },
        {
          "output_type": "stream",
          "name": "stderr",
          "text": [
            "Epoch 8/20: 100%|██████████| 76/76 [00:54<00:00,  1.39it/s]\n"
          ]
        },
        {
          "output_type": "stream",
          "name": "stdout",
          "text": [
            "Epoch [8/20] - Train Loss: 0.0001087 - Val Loss: 0.0000978\n"
          ]
        },
        {
          "output_type": "stream",
          "name": "stderr",
          "text": [
            "Epoch 9/20: 100%|██████████| 76/76 [00:55<00:00,  1.38it/s]\n"
          ]
        },
        {
          "output_type": "stream",
          "name": "stdout",
          "text": [
            "Epoch [9/20] - Train Loss: 0.0001018 - Val Loss: 0.0001436\n"
          ]
        },
        {
          "output_type": "stream",
          "name": "stderr",
          "text": [
            "Epoch 10/20: 100%|██████████| 76/76 [00:55<00:00,  1.38it/s]\n"
          ]
        },
        {
          "output_type": "stream",
          "name": "stdout",
          "text": [
            "Epoch [10/20] - Train Loss: 0.0001000 - Val Loss: 0.0001145\n"
          ]
        },
        {
          "output_type": "stream",
          "name": "stderr",
          "text": [
            "Epoch 11/20: 100%|██████████| 76/76 [00:55<00:00,  1.38it/s]\n"
          ]
        },
        {
          "output_type": "stream",
          "name": "stdout",
          "text": [
            "Epoch [11/20] - Train Loss: 0.0001157 - Val Loss: 0.0001664\n"
          ]
        },
        {
          "output_type": "stream",
          "name": "stderr",
          "text": [
            "Epoch 12/20: 100%|██████████| 76/76 [00:54<00:00,  1.39it/s]\n"
          ]
        },
        {
          "output_type": "stream",
          "name": "stdout",
          "text": [
            "Epoch [12/20] - Train Loss: 0.0001138 - Val Loss: 0.0001107\n"
          ]
        },
        {
          "output_type": "stream",
          "name": "stderr",
          "text": [
            "Epoch 13/20: 100%|██████████| 76/76 [00:55<00:00,  1.38it/s]\n"
          ]
        },
        {
          "output_type": "stream",
          "name": "stdout",
          "text": [
            "Epoch [13/20] - Train Loss: 0.0001051 - Val Loss: 0.0000825\n"
          ]
        },
        {
          "output_type": "stream",
          "name": "stderr",
          "text": [
            "Epoch 14/20: 100%|██████████| 76/76 [00:55<00:00,  1.38it/s]\n"
          ]
        },
        {
          "output_type": "stream",
          "name": "stdout",
          "text": [
            "Epoch [14/20] - Train Loss: 0.0001333 - Val Loss: 0.0001470\n"
          ]
        },
        {
          "output_type": "stream",
          "name": "stderr",
          "text": [
            "Epoch 15/20: 100%|██████████| 76/76 [00:54<00:00,  1.38it/s]\n"
          ]
        },
        {
          "output_type": "stream",
          "name": "stdout",
          "text": [
            "Epoch [15/20] - Train Loss: 0.0001109 - Val Loss: 0.0001521\n"
          ]
        },
        {
          "output_type": "stream",
          "name": "stderr",
          "text": [
            "Epoch 16/20: 100%|██████████| 76/76 [00:55<00:00,  1.36it/s]\n"
          ]
        },
        {
          "output_type": "stream",
          "name": "stdout",
          "text": [
            "Epoch [16/20] - Train Loss: 0.0001192 - Val Loss: 0.0000957\n"
          ]
        },
        {
          "output_type": "stream",
          "name": "stderr",
          "text": [
            "Epoch 17/20: 100%|██████████| 76/76 [00:54<00:00,  1.38it/s]\n"
          ]
        },
        {
          "output_type": "stream",
          "name": "stdout",
          "text": [
            "Epoch [17/20] - Train Loss: 0.0001036 - Val Loss: 0.0001164\n"
          ]
        },
        {
          "output_type": "stream",
          "name": "stderr",
          "text": [
            "Epoch 18/20: 100%|██████████| 76/76 [00:55<00:00,  1.37it/s]\n"
          ]
        },
        {
          "output_type": "stream",
          "name": "stdout",
          "text": [
            "Epoch [18/20] - Train Loss: 0.0001106 - Val Loss: 0.0001031\n",
            "⚠️ Early stopping triggered at epoch 18\n",
            "Fold 5 Finished - Best Validation Loss: 0.0000825\n",
            "\n",
            "Fold 6\n"
          ]
        },
        {
          "output_type": "stream",
          "name": "stderr",
          "text": [
            "Epoch 1/20: 100%|██████████| 76/76 [00:55<00:00,  1.37it/s]\n"
          ]
        },
        {
          "output_type": "stream",
          "name": "stdout",
          "text": [
            "Epoch [1/20] - Train Loss: 0.0001017 - Val Loss: 0.0002934\n"
          ]
        },
        {
          "output_type": "stream",
          "name": "stderr",
          "text": [
            "Epoch 2/20: 100%|██████████| 76/76 [00:55<00:00,  1.38it/s]\n"
          ]
        },
        {
          "output_type": "stream",
          "name": "stdout",
          "text": [
            "Epoch [2/20] - Train Loss: 0.0001067 - Val Loss: 0.0001928\n"
          ]
        },
        {
          "output_type": "stream",
          "name": "stderr",
          "text": [
            "Epoch 3/20: 100%|██████████| 76/76 [00:54<00:00,  1.39it/s]\n"
          ]
        },
        {
          "output_type": "stream",
          "name": "stdout",
          "text": [
            "Epoch [3/20] - Train Loss: 0.0000743 - Val Loss: 0.0001671\n"
          ]
        },
        {
          "output_type": "stream",
          "name": "stderr",
          "text": [
            "Epoch 4/20: 100%|██████████| 76/76 [00:55<00:00,  1.38it/s]\n"
          ]
        },
        {
          "output_type": "stream",
          "name": "stdout",
          "text": [
            "Epoch [4/20] - Train Loss: 0.0000768 - Val Loss: 0.0002165\n"
          ]
        },
        {
          "output_type": "stream",
          "name": "stderr",
          "text": [
            "Epoch 5/20: 100%|██████████| 76/76 [00:55<00:00,  1.38it/s]\n"
          ]
        },
        {
          "output_type": "stream",
          "name": "stdout",
          "text": [
            "Epoch [5/20] - Train Loss: 0.0000756 - Val Loss: 0.0001859\n"
          ]
        },
        {
          "output_type": "stream",
          "name": "stderr",
          "text": [
            "Epoch 6/20: 100%|██████████| 76/76 [00:54<00:00,  1.38it/s]\n"
          ]
        },
        {
          "output_type": "stream",
          "name": "stdout",
          "text": [
            "Epoch [6/20] - Train Loss: 0.0000771 - Val Loss: 0.0002287\n"
          ]
        },
        {
          "output_type": "stream",
          "name": "stderr",
          "text": [
            "Epoch 7/20: 100%|██████████| 76/76 [00:54<00:00,  1.39it/s]\n"
          ]
        },
        {
          "output_type": "stream",
          "name": "stdout",
          "text": [
            "Epoch [7/20] - Train Loss: 0.0000858 - Val Loss: 0.0002526\n"
          ]
        },
        {
          "output_type": "stream",
          "name": "stderr",
          "text": [
            "Epoch 8/20: 100%|██████████| 76/76 [00:55<00:00,  1.37it/s]\n"
          ]
        },
        {
          "output_type": "stream",
          "name": "stdout",
          "text": [
            "Epoch [8/20] - Train Loss: 0.0000729 - Val Loss: 0.0001945\n",
            "⚠️ Early stopping triggered at epoch 8\n",
            "Fold 6 Finished - Best Validation Loss: 0.0001671\n",
            "\n",
            "Fold 7\n"
          ]
        },
        {
          "output_type": "stream",
          "name": "stderr",
          "text": [
            "Epoch 1/20: 100%|██████████| 76/76 [00:55<00:00,  1.37it/s]\n"
          ]
        },
        {
          "output_type": "stream",
          "name": "stdout",
          "text": [
            "Epoch [1/20] - Train Loss: 0.0000991 - Val Loss: 0.0000742\n"
          ]
        },
        {
          "output_type": "stream",
          "name": "stderr",
          "text": [
            "Epoch 2/20: 100%|██████████| 76/76 [00:55<00:00,  1.37it/s]\n"
          ]
        },
        {
          "output_type": "stream",
          "name": "stdout",
          "text": [
            "Epoch [2/20] - Train Loss: 0.0000917 - Val Loss: 0.0000925\n"
          ]
        },
        {
          "output_type": "stream",
          "name": "stderr",
          "text": [
            "Epoch 3/20: 100%|██████████| 76/76 [00:54<00:00,  1.39it/s]\n"
          ]
        },
        {
          "output_type": "stream",
          "name": "stdout",
          "text": [
            "Epoch [3/20] - Train Loss: 0.0000911 - Val Loss: 0.0000969\n"
          ]
        },
        {
          "output_type": "stream",
          "name": "stderr",
          "text": [
            "Epoch 4/20: 100%|██████████| 76/76 [00:55<00:00,  1.38it/s]\n"
          ]
        },
        {
          "output_type": "stream",
          "name": "stdout",
          "text": [
            "Epoch [4/20] - Train Loss: 0.0000840 - Val Loss: 0.0001027\n"
          ]
        },
        {
          "output_type": "stream",
          "name": "stderr",
          "text": [
            "Epoch 5/20: 100%|██████████| 76/76 [00:55<00:00,  1.38it/s]\n"
          ]
        },
        {
          "output_type": "stream",
          "name": "stdout",
          "text": [
            "Epoch [5/20] - Train Loss: 0.0001035 - Val Loss: 0.0001291\n"
          ]
        },
        {
          "output_type": "stream",
          "name": "stderr",
          "text": [
            "Epoch 6/20: 100%|██████████| 76/76 [00:55<00:00,  1.38it/s]\n"
          ]
        },
        {
          "output_type": "stream",
          "name": "stdout",
          "text": [
            "Epoch [6/20] - Train Loss: 0.0001025 - Val Loss: 0.0001075\n",
            "⚠️ Early stopping triggered at epoch 6\n",
            "Fold 7 Finished - Best Validation Loss: 0.0000742\n",
            "\n",
            "Fold 8\n"
          ]
        },
        {
          "output_type": "stream",
          "name": "stderr",
          "text": [
            "Epoch 1/20: 100%|██████████| 76/76 [00:55<00:00,  1.37it/s]\n"
          ]
        },
        {
          "output_type": "stream",
          "name": "stdout",
          "text": [
            "Epoch [1/20] - Train Loss: 0.0000979 - Val Loss: 0.0000985\n"
          ]
        },
        {
          "output_type": "stream",
          "name": "stderr",
          "text": [
            "Epoch 2/20: 100%|██████████| 76/76 [00:54<00:00,  1.38it/s]\n"
          ]
        },
        {
          "output_type": "stream",
          "name": "stdout",
          "text": [
            "Epoch [2/20] - Train Loss: 0.0000853 - Val Loss: 0.0001234\n"
          ]
        },
        {
          "output_type": "stream",
          "name": "stderr",
          "text": [
            "Epoch 3/20: 100%|██████████| 76/76 [00:55<00:00,  1.37it/s]\n"
          ]
        },
        {
          "output_type": "stream",
          "name": "stdout",
          "text": [
            "Epoch [3/20] - Train Loss: 0.0000806 - Val Loss: 0.0001232\n"
          ]
        },
        {
          "output_type": "stream",
          "name": "stderr",
          "text": [
            "Epoch 4/20: 100%|██████████| 76/76 [00:55<00:00,  1.38it/s]\n"
          ]
        },
        {
          "output_type": "stream",
          "name": "stdout",
          "text": [
            "Epoch [4/20] - Train Loss: 0.0000739 - Val Loss: 0.0001779\n"
          ]
        },
        {
          "output_type": "stream",
          "name": "stderr",
          "text": [
            "Epoch 5/20: 100%|██████████| 76/76 [00:55<00:00,  1.37it/s]\n"
          ]
        },
        {
          "output_type": "stream",
          "name": "stdout",
          "text": [
            "Epoch [5/20] - Train Loss: 0.0000825 - Val Loss: 0.0001590\n"
          ]
        },
        {
          "output_type": "stream",
          "name": "stderr",
          "text": [
            "Epoch 6/20: 100%|██████████| 76/76 [00:55<00:00,  1.38it/s]\n"
          ]
        },
        {
          "output_type": "stream",
          "name": "stdout",
          "text": [
            "Epoch [6/20] - Train Loss: 0.0000855 - Val Loss: 0.0001789\n",
            "⚠️ Early stopping triggered at epoch 6\n",
            "Fold 8 Finished - Best Validation Loss: 0.0000985\n",
            "\n",
            "Fold 9\n"
          ]
        },
        {
          "output_type": "stream",
          "name": "stderr",
          "text": [
            "Epoch 1/20: 100%|██████████| 76/76 [00:55<00:00,  1.37it/s]\n"
          ]
        },
        {
          "output_type": "stream",
          "name": "stdout",
          "text": [
            "Epoch [1/20] - Train Loss: 0.0000924 - Val Loss: 0.0000718\n"
          ]
        },
        {
          "output_type": "stream",
          "name": "stderr",
          "text": [
            "Epoch 2/20: 100%|██████████| 76/76 [00:55<00:00,  1.37it/s]\n"
          ]
        },
        {
          "output_type": "stream",
          "name": "stdout",
          "text": [
            "Epoch [2/20] - Train Loss: 0.0000924 - Val Loss: 0.0001493\n"
          ]
        },
        {
          "output_type": "stream",
          "name": "stderr",
          "text": [
            "Epoch 3/20: 100%|██████████| 76/76 [00:55<00:00,  1.37it/s]\n"
          ]
        },
        {
          "output_type": "stream",
          "name": "stdout",
          "text": [
            "Epoch [3/20] - Train Loss: 0.0001018 - Val Loss: 0.0000646\n"
          ]
        },
        {
          "output_type": "stream",
          "name": "stderr",
          "text": [
            "Epoch 4/20: 100%|██████████| 76/76 [00:55<00:00,  1.38it/s]\n"
          ]
        },
        {
          "output_type": "stream",
          "name": "stdout",
          "text": [
            "Epoch [4/20] - Train Loss: 0.0000852 - Val Loss: 0.0000913\n"
          ]
        },
        {
          "output_type": "stream",
          "name": "stderr",
          "text": [
            "Epoch 5/20: 100%|██████████| 76/76 [00:55<00:00,  1.38it/s]\n"
          ]
        },
        {
          "output_type": "stream",
          "name": "stdout",
          "text": [
            "Epoch [5/20] - Train Loss: 0.0000957 - Val Loss: 0.0000852\n"
          ]
        },
        {
          "output_type": "stream",
          "name": "stderr",
          "text": [
            "Epoch 6/20: 100%|██████████| 76/76 [00:54<00:00,  1.38it/s]\n"
          ]
        },
        {
          "output_type": "stream",
          "name": "stdout",
          "text": [
            "Epoch [6/20] - Train Loss: 0.0000860 - Val Loss: 0.0001074\n"
          ]
        },
        {
          "output_type": "stream",
          "name": "stderr",
          "text": [
            "Epoch 7/20: 100%|██████████| 76/76 [00:55<00:00,  1.38it/s]\n"
          ]
        },
        {
          "output_type": "stream",
          "name": "stdout",
          "text": [
            "Epoch [7/20] - Train Loss: 0.0000847 - Val Loss: 0.0001923\n"
          ]
        },
        {
          "output_type": "stream",
          "name": "stderr",
          "text": [
            "Epoch 8/20: 100%|██████████| 76/76 [00:55<00:00,  1.38it/s]\n"
          ]
        },
        {
          "output_type": "stream",
          "name": "stdout",
          "text": [
            "Epoch [8/20] - Train Loss: 0.0000919 - Val Loss: 0.0001210\n",
            "⚠️ Early stopping triggered at epoch 8\n",
            "Fold 9 Finished - Best Validation Loss: 0.0000646\n",
            "\n",
            "Fold 10\n"
          ]
        },
        {
          "output_type": "stream",
          "name": "stderr",
          "text": [
            "Epoch 1/20: 100%|██████████| 76/76 [00:55<00:00,  1.37it/s]\n"
          ]
        },
        {
          "output_type": "stream",
          "name": "stdout",
          "text": [
            "Epoch [1/20] - Train Loss: 0.0000858 - Val Loss: 0.0000894\n"
          ]
        },
        {
          "output_type": "stream",
          "name": "stderr",
          "text": [
            "Epoch 2/20: 100%|██████████| 76/76 [00:55<00:00,  1.38it/s]\n"
          ]
        },
        {
          "output_type": "stream",
          "name": "stdout",
          "text": [
            "Epoch [2/20] - Train Loss: 0.0000706 - Val Loss: 0.0000840\n"
          ]
        },
        {
          "output_type": "stream",
          "name": "stderr",
          "text": [
            "Epoch 3/20: 100%|██████████| 76/76 [00:55<00:00,  1.37it/s]\n"
          ]
        },
        {
          "output_type": "stream",
          "name": "stdout",
          "text": [
            "Epoch [3/20] - Train Loss: 0.0000735 - Val Loss: 0.0001038\n"
          ]
        },
        {
          "output_type": "stream",
          "name": "stderr",
          "text": [
            "Epoch 4/20: 100%|██████████| 76/76 [00:55<00:00,  1.38it/s]\n"
          ]
        },
        {
          "output_type": "stream",
          "name": "stdout",
          "text": [
            "Epoch [4/20] - Train Loss: 0.0000685 - Val Loss: 0.0000994\n"
          ]
        },
        {
          "output_type": "stream",
          "name": "stderr",
          "text": [
            "Epoch 5/20: 100%|██████████| 76/76 [00:54<00:00,  1.39it/s]\n"
          ]
        },
        {
          "output_type": "stream",
          "name": "stdout",
          "text": [
            "Epoch [5/20] - Train Loss: 0.0000699 - Val Loss: 0.0000908\n"
          ]
        },
        {
          "output_type": "stream",
          "name": "stderr",
          "text": [
            "Epoch 6/20: 100%|██████████| 76/76 [00:55<00:00,  1.37it/s]\n"
          ]
        },
        {
          "output_type": "stream",
          "name": "stdout",
          "text": [
            "Epoch [6/20] - Train Loss: 0.0000759 - Val Loss: 0.0001351\n"
          ]
        },
        {
          "output_type": "stream",
          "name": "stderr",
          "text": [
            "Epoch 7/20: 100%|██████████| 76/76 [00:55<00:00,  1.36it/s]\n"
          ]
        },
        {
          "output_type": "stream",
          "name": "stdout",
          "text": [
            "Epoch [7/20] - Train Loss: 0.0000851 - Val Loss: 0.0001482\n",
            "⚠️ Early stopping triggered at epoch 7\n",
            "Fold 10 Finished - Best Validation Loss: 0.0000840\n",
            "✅ \n",
            "Average Validation Loss across all folds: 0.0001562\n",
            "✅ 继续训练完成，已保存为 `3d_cnn_model_v2.pth`\n",
            "🕛 训练耗时: 7638.68 秒\n"
          ]
        },
        {
          "output_type": "display_data",
          "data": {
            "text/plain": [
              "<Figure size 1000x500 with 1 Axes>"
            ],
            "image/png": "[encoded data removed]"
          },
          "metadata": {}
        }
      ]
    },
    {
      "cell_type": "markdown",
      "source": [
        "## 4.2. OPTION: Simple 2-stage trainning"
      ],
      "metadata": {
        "id": "4MBXgERwtWqk"
      }
    },
    {
      "cell_type": "code",
      "source": [
        "if conf.train_mode == \"simple\":\n",
        "  ## Trainning: stage-1\n",
        "  train_start_time = time.time() # 记录时间\n",
        "  model_train_simple(num_epochs=2,learning_rate=0.0002) # 训练\n",
        "  torch.save(model.state_dict(), \"3d_cnn_model.pth\") # save\n",
        "  print(\"✅ 模型训练完成，已保存！\")\n",
        "\n",
        "\n",
        "  ## Trainning: stage-2\n",
        "  model.load_state_dict(torch.load(\"3d_cnn_model.pth\")) # load model\n",
        "  model_train_simple(num_epochs=2,learning_rate=0.0001) # train\n",
        "\n",
        "  ## Save and Record\n",
        "  torch.save(model.state_dict(), \"3d_cnn_model_v2.pth\") # 再次保存模型\n",
        "  train_end_time = time.time() # 记录时间\n",
        "  trainning_time = train_end_time - train_start_time # 计算训练时间\n",
        "\n",
        "  ## Print\n",
        "  print(\"✅ 继续训练完成，已保存为 `3d_cnn_model_v2.pth`\")\n",
        "  print(f\"🕛 训练耗时: {trainning_time:.3f} 秒\")\n",
        "\n",
        "  ## Plot: loss\n",
        "  plot_loss()"
      ],
      "metadata": {
        "id": "cEgeh2w4cCEZ"
      },
      "execution_count": 151,
      "outputs": []
    },
    {
      "cell_type": "markdown",
      "source": [
        "Note:\\\n",
        "As TC added, 4$e^{-4}$ shows gradient disapper (loss:Nan)\\\n",
        "$\\therefore$ 4$e^{-4}$ $\\rightarrow$ 2$e^{-4}$\\\n",
        "\n",
        "When reducing the amount of predicting parameters, loss drops faster at the first step (0.007 -> 0.004)"
      ],
      "metadata": {
        "id": "feyZshXnJPb-"
      }
    },
    {
      "cell_type": "markdown",
      "source": [
        "**Note**\n",
        "\n",
        "when loss = 0.000139, seems to have good prediction capability"
      ],
      "metadata": {
        "id": "QLeQSbuSVaH9"
      }
    },
    {
      "cell_type": "markdown",
      "source": [
        "# 5.Model Testing"
      ],
      "metadata": {
        "id": "YvNzmgG3nLFO"
      }
    },
    {
      "cell_type": "code",
      "source": [
        "# 加载模型\n",
        "model = conf.model                        # Create an instance of your model\n",
        "model.load_state_dict(torch.load('3d_cnn_model_v2.pth'))  # Load the saved state_dict\n",
        "model.eval()                                              # Set the model to evaluation mode\n",
        "\n",
        "# 用于存储预测值和真实值\n",
        "predictions_scaled   = []\n",
        "actual_values_scaled = []\n",
        "\n",
        "\n",
        "# 用于存储总的损失\n",
        "total_loss    = 0.0\n",
        "criterion     = conf.criterion\n",
        "test_loss_history    = []\n",
        "\n",
        "# 推理\n",
        "reasoning_start_time = time.time() # 记录时间\n",
        "with torch.no_grad():\n",
        "    for label, grid, items in tqdm(test_loader, desc=f\"Evaluating...\"): # Changed description\n",
        "        label, grid, items = label.to(device), grid.to(device), items.to(device)\n",
        "        grid    = grid.unsqueeze(1)               # 添加 channel 维度 (channels, depth, height, width) for 3D CNN\n",
        "        output  = model(grid, items[:, 0])        # TODO: 确保 输入grid + temp_i, 前向传播\n",
        "        loss    = criterion(output, items[:, 1:]) # TODO: 确保 输入 temp_i 以后的\n",
        "        total_loss += loss.item()\n",
        "\n",
        "        # Append predictions and actual values to the lists\n",
        "        predictions_scaled.extend(output.cpu())         # Move predictions to CPU\n",
        "        actual_values_scaled.extend(items[:, 1:].cpu()) # Move actual values to CPU\n",
        "\n",
        "        # record\n",
        "        test_loss_history.append(total_loss / len(test_loader))\n",
        "\n",
        "reasoning_end_time = time.time() # 记录时间\n",
        "reasoning_time = reasoning_end_time - reasoning_start_time # 计算推理时间\n",
        "print(f\"🕛 推理耗时: {reasoning_time:.3f} 秒\")\n",
        "print(f\"Test Loss: {total_loss / len(test_loader):.6f}\")"
      ],
      "metadata": {
        "id": "5zn0vY-6nIZt",
        "colab": {
          "base_uri": "https://localhost:8080/"
        },
        "outputId": "4eb4c6fb-0275-452f-8ef2-eaa74eff3220"
      },
      "execution_count": 152,
      "outputs": [
        {
          "output_type": "stream",
          "name": "stderr",
          "text": [
            "/usr/local/lib/python3.11/dist-packages/torch/nn/modules/transformer.py:379: UserWarning: enable_nested_tensor is True, but self.use_nested_tensor is False because encoder_layer.self_attn.batch_first was not True(use batch_first for better inference performance)\n",
            "  warnings.warn(\n",
            "<ipython-input-152-f8503d073999>:3: FutureWarning: You are using `torch.load` with `weights_only=False` (the current default value), which uses the default pickle module implicitly. It is possible to construct malicious pickle data which will execute arbitrary code during unpickling (See https://github.com/pytorch/pytorch/blob/main/SECURITY.md#untrusted-models for more details). In a future release, the default value for `weights_only` will be flipped to `True`. This limits the functions that could be executed during unpickling. Arbitrary objects will no longer be allowed to be loaded via this mode unless they are explicitly allowlisted by the user via `torch.serialization.add_safe_globals`. We recommend you start setting `weights_only=True` for any use case where you don't have full control of the loaded file. Please open an issue on GitHub for any issues related to this experimental feature.\n",
            "  model.load_state_dict(torch.load('3d_cnn_model_v2.pth'))  # Load the saved state_dict\n",
            "Evaluating...: 100%|██████████| 6/6 [00:03<00:00,  1.58it/s]"
          ]
        },
        {
          "output_type": "stream",
          "name": "stdout",
          "text": [
            "🕛 推理耗时: 3.832 秒\n",
            "Test Loss: 0.000101\n"
          ]
        },
        {
          "output_type": "stream",
          "name": "stderr",
          "text": [
            "\n"
          ]
        }
      ]
    },
    {
      "cell_type": "markdown",
      "source": [
        "# 6.Model Evaluation"
      ],
      "metadata": {
        "id": "iBFgqcg7i5No"
      }
    },
    {
      "cell_type": "markdown",
      "source": [
        "**📌 8.1 绝对误差 (MAE - Mean Absolute Error)**\n",
        "$$\n",
        "\\text{MAE} = \\frac{1}{n} \\sum |y_{true} - y_{pred}|\n",
        "$$\n",
        "\n",
        "- 衡量模型预测误差的平均绝对值。\n",
        "- 与 MSE 相比，MAE 不会放大较大的误差，对异常值（outliers）更鲁棒。"
      ],
      "metadata": {
        "id": "CkP2Oi2b2gse"
      }
    },
    {
      "cell_type": "code",
      "source": [
        "MAE = mean_absolute_error(actual_values_scaled, predictions_scaled)\n",
        "print(f\"📉 MAE: {MAE:.4f}\")"
      ],
      "metadata": {
        "colab": {
          "base_uri": "https://localhost:8080/"
        },
        "id": "hcv9NmmB2blf",
        "outputId": "e70b47b9-fd3c-48f0-d49f-febb78cb22fc"
      },
      "execution_count": 153,
      "outputs": [
        {
          "output_type": "stream",
          "name": "stdout",
          "text": [
            "📉 MAE: 0.0080\n"
          ]
        }
      ]
    },
    {
      "cell_type": "markdown",
      "source": [
        "**📌 8.2 均方误差(MSE - Mean Squared Error)**\n",
        "$$\n",
        "\\text{MSE} = \\frac{1}{n} \\sum \\left(y_{true} - y_{pred}\\right)^2\n",
        "$$\n",
        "\n",
        "- 衡量模型预测误差的平方平均值，放大较大误差，对异常值敏感。\n"
      ],
      "metadata": {
        "id": "ibbHFlLA3V4z"
      }
    },
    {
      "cell_type": "code",
      "source": [
        "MSE = mean_squared_error(actual_values_scaled, predictions_scaled)\n",
        "print(f\"📉 MSE: {MSE:.4f}\")"
      ],
      "metadata": {
        "colab": {
          "base_uri": "https://localhost:8080/"
        },
        "id": "6nF8q3oyjqGO",
        "outputId": "a856bc6c-75b6-4206-81d4-db12108da844"
      },
      "execution_count": 154,
      "outputs": [
        {
          "output_type": "stream",
          "name": "stdout",
          "text": [
            "📉 MSE: 0.0001\n"
          ]
        }
      ]
    },
    {
      "cell_type": "markdown",
      "source": [
        "**📌 8.3. 均方根误差(RMSE - Root Mean Squared Error)**\n",
        "$$\n",
        "RMSE = \\sqrt{MSE}\n",
        "$$\n",
        "\n",
        "- RMSE = MSE 开平方，单位与原变量一致，更易解释。"
      ],
      "metadata": {
        "id": "6WnY_at14kFD"
      }
    },
    {
      "cell_type": "code",
      "source": [
        "RMSE = np.sqrt(MSE)\n",
        "print(f\"📉 RMSE: {RMSE:.4f}\")"
      ],
      "metadata": {
        "colab": {
          "base_uri": "https://localhost:8080/"
        },
        "id": "9wk9Yb6_4p1G",
        "outputId": "30b42ca1-f489-4822-f64f-fbd37966e6d1"
      },
      "execution_count": 155,
      "outputs": [
        {
          "output_type": "stream",
          "name": "stdout",
          "text": [
            "📉 RMSE: 0.0100\n"
          ]
        }
      ]
    },
    {
      "cell_type": "markdown",
      "source": [
        "**📌 8.4 平均百分比误差(MAPE - Mean Absolute Percentage Error)**\n",
        "$$\n",
        "MAPE = \\frac{1}{n} \\sum \\left| \\frac{y_{true} - y_{pred}}{y_{true}} \\right| x 100 \\text{%}\n",
        "$$\n",
        "\n",
        "- 衡量预测误差相对于真实值的百分比，适用于不同尺度的数据。\n",
        "- ⚠️ 适用于非负数据，否则可能会报错。\n"
      ],
      "metadata": {
        "id": "qSsg02pc5E-V"
      }
    },
    {
      "cell_type": "code",
      "source": [
        "def mean_absolute_percentage_error(y_true, y_pred):\n",
        "    return np.mean(np.abs((y_true - y_pred) / y_true)) * 100\n",
        "\n",
        "MAPE = mean_absolute_percentage_error(np.array(actual_values_scaled), np.array(predictions_scaled))\n",
        "print(f\"📉 MAPE: {MAPE:.2f}%\")"
      ],
      "metadata": {
        "colab": {
          "base_uri": "https://localhost:8080/"
        },
        "id": "y6-OoYho5EUv",
        "outputId": "4ab8c2b0-c5c0-46a3-fd5b-3a16b52250cf"
      },
      "execution_count": 156,
      "outputs": [
        {
          "output_type": "stream",
          "name": "stdout",
          "text": [
            "📉 MAPE: inf%\n"
          ]
        },
        {
          "output_type": "stream",
          "name": "stderr",
          "text": [
            "<ipython-input-156-52ec4e328dbf>:2: RuntimeWarning: divide by zero encountered in divide\n",
            "  return np.mean(np.abs((y_true - y_pred) / y_true)) * 100\n"
          ]
        }
      ]
    },
    {
      "cell_type": "markdown",
      "source": [
        "**📌 8.5 解释方差得分(Explained Variance Score)**\n",
        "$$\n",
        "EVS = 1 - \\frac{Var(y_{true}-y_{pred})}{Var(y_{true})}\n",
        "$$\n",
        "\n",
        "- 衡量模型对数据方差的解释能力，类似 R²，但不受数据缩放影响。"
      ],
      "metadata": {
        "id": "3QvF_FdO6v1n"
      }
    },
    {
      "cell_type": "code",
      "source": [
        "EVS = explained_variance_score(actual_values_scaled, predictions_scaled)\n",
        "print(f\"📊 Explained Variance Score: {EVS:.4f}\")"
      ],
      "metadata": {
        "colab": {
          "base_uri": "https://localhost:8080/"
        },
        "id": "nB_Dn7jM6jih",
        "outputId": "dabf60b0-6f5d-44bc-e7af-7569d3972f29"
      },
      "execution_count": 157,
      "outputs": [
        {
          "output_type": "stream",
          "name": "stdout",
          "text": [
            "📊 Explained Variance Score: 0.9991\n"
          ]
        }
      ]
    },
    {
      "cell_type": "markdown",
      "source": [
        "**📌 8.6 平均对数误差(MSLE - Mean Squared Logarithmic Error)**\n",
        "$$\n",
        "\\text{MSLE} = \\frac{1}{n} \\sum \\left( \\log(1 + y_{\\text{true}}) - \\log(1 + y_{\\text{pred}}) \\right)^2\n",
        "$$\n",
        "\n",
        "- 适用于预测值变化范围较大的情况（如预测收入、人口等）。\n",
        "- 避免极端值影响，更关注相对误差。\n",
        "- ⚠️ 适用于非负数据，否则可能会报错。\n"
      ],
      "metadata": {
        "id": "6bY0onRP8PXw"
      }
    },
    {
      "cell_type": "code",
      "source": [
        "MSLE = mean_squared_log_error(actual_values_scaled, predictions_scaled)\n",
        "print(f\"📉 MSLE: {MSLE:.4f}\")"
      ],
      "metadata": {
        "colab": {
          "base_uri": "https://localhost:8080/"
        },
        "id": "Y-EDhu8O8Zn6",
        "outputId": "4ccf0d95-9999-437c-c633-0d9be2070b3c"
      },
      "execution_count": 158,
      "outputs": [
        {
          "output_type": "stream",
          "name": "stdout",
          "text": [
            "📉 MSLE: 0.0001\n"
          ]
        }
      ]
    },
    {
      "cell_type": "markdown",
      "source": [
        "**📌 8.7 皮尔逊相关系数（Pearson Correlation Coefficient）**\n",
        "$$\n",
        "\\text{PCC} = \\frac{\\text{Cov}(y_{\\text{true}}, y_{\\text{pred}})}{\\sigma_{y_{\\text{true}}} \\cdot \\sigma_{y_{\\text{pred}}}}\n",
        "$$\n",
        "\n",
        "- 衡量预测值和真实值之间的线性相关性，范围在 \\([-1,1]\\) 之间：\n",
        "  - **+1** 表示完全正相关\n",
        "  - **0** 表示无相关性\n",
        "  - **-1** 表示完全负相关\n"
      ],
      "metadata": {
        "id": "4-hhL7qJ994k"
      }
    },
    {
      "cell_type": "code",
      "source": [
        "PCC, _ = scipy.stats.pearsonr(np.array(actual_values_scaled).flatten(), np.array(predictions_scaled).flatten())\n",
        "print(f\"📈 Pearson Correlation Coefficient: {PCC:.4f}\")"
      ],
      "metadata": {
        "colab": {
          "base_uri": "https://localhost:8080/",
          "height": 213
        },
        "id": "S81plJVH-BPM",
        "outputId": "2149f1ab-aa37-4851-b254-b67b007bde29"
      },
      "execution_count": 159,
      "outputs": [
        {
          "output_type": "error",
          "ename": "NameError",
          "evalue": "name 'scipy' is not defined",
          "traceback": [
            "\u001b[0;31m---------------------------------------------------------------------------\u001b[0m",
            "\u001b[0;31mNameError\u001b[0m                                 Traceback (most recent call last)",
            "\u001b[0;32m<ipython-input-159-324e081f9fd5>\u001b[0m in \u001b[0;36m<cell line: 0>\u001b[0;34m()\u001b[0m\n\u001b[0;32m----> 1\u001b[0;31m \u001b[0mPCC\u001b[0m\u001b[0;34m,\u001b[0m \u001b[0m_\u001b[0m \u001b[0;34m=\u001b[0m \u001b[0mscipy\u001b[0m\u001b[0;34m.\u001b[0m\u001b[0mstats\u001b[0m\u001b[0;34m.\u001b[0m\u001b[0mpearsonr\u001b[0m\u001b[0;34m(\u001b[0m\u001b[0mnp\u001b[0m\u001b[0;34m.\u001b[0m\u001b[0marray\u001b[0m\u001b[0;34m(\u001b[0m\u001b[0mactual_values_scaled\u001b[0m\u001b[0;34m)\u001b[0m\u001b[0;34m.\u001b[0m\u001b[0mflatten\u001b[0m\u001b[0;34m(\u001b[0m\u001b[0;34m)\u001b[0m\u001b[0;34m,\u001b[0m \u001b[0mnp\u001b[0m\u001b[0;34m.\u001b[0m\u001b[0marray\u001b[0m\u001b[0;34m(\u001b[0m\u001b[0mpredictions_scaled\u001b[0m\u001b[0;34m)\u001b[0m\u001b[0;34m.\u001b[0m\u001b[0mflatten\u001b[0m\u001b[0;34m(\u001b[0m\u001b[0;34m)\u001b[0m\u001b[0;34m)\u001b[0m\u001b[0;34m\u001b[0m\u001b[0;34m\u001b[0m\u001b[0m\n\u001b[0m\u001b[1;32m      2\u001b[0m \u001b[0mprint\u001b[0m\u001b[0;34m(\u001b[0m\u001b[0;34mf\"📈 Pearson Correlation Coefficient: {PCC:.4f}\"\u001b[0m\u001b[0;34m)\u001b[0m\u001b[0;34m\u001b[0m\u001b[0;34m\u001b[0m\u001b[0m\n",
            "\u001b[0;31mNameError\u001b[0m: name 'scipy' is not defined"
          ]
        }
      ]
    },
    {
      "cell_type": "markdown",
      "source": [
        "**📌 8.7 方误差($R^{2}$ )**\n",
        "**R² 公式**\n",
        "\n",
        "$$ R^2 = 1 - \\frac{SS_{res}}{SS_{tot}} $$\n",
        "\n",
        "其中：\n",
        "\n",
        "- $SS$ = Sum of Squares\n",
        "- $SS_{res} = \\sum (y_{\\text{true}} - y_{\\text{pred}})^2$ —— 残差平方和\n",
        "- $SS_{tot} = \\sum (y_{\\text{true}} - \\bar{y}_{\\text{true}})^2$ —— 总平方和\n",
        "- $\\bar{y}_{\\text{true}}$ 是真实值的均值。\n",
        "\n",
        "**R² 的解释**\n",
        "\n",
        "- **\\( R^2 = 1.0 \\)**：模型完美拟合数据。\n",
        "- **\\( 0 < R^2 < 1 \\)**：模型有一定的解释能力，但仍有误差。\n",
        "- **\\( R^2 $\\leq$ 0 \\)**：模型甚至比简单的均值预测还差。\n",
        "\n"
      ],
      "metadata": {
        "id": "0WesUyXZ4P-C"
      }
    },
    {
      "cell_type": "code",
      "source": [
        "# 计算 R² Score\n",
        "R2 = r2_score(actual_values_scaled, predictions_scaled)\n",
        "print(f\"📊 R² Score: {R2:.4f}\")"
      ],
      "metadata": {
        "id": "nUt_1bVX4Mq2"
      },
      "execution_count": null,
      "outputs": []
    },
    {
      "cell_type": "markdown",
      "source": [
        "**📌 8.8 训练与推理耗时 (Time consumed)**"
      ],
      "metadata": {
        "id": "6CBb7mdJ_qd7"
      }
    },
    {
      "cell_type": "code",
      "source": [
        "# 输出评估结果\n",
        "print(f\"🕛 训练耗时：{trainning_time:3f} 秒\")\n",
        "print(f\"🕛 推理耗时: {reasoning_time:.3f} 秒\")"
      ],
      "metadata": {
        "id": "1i-7pkgonrqc"
      },
      "execution_count": null,
      "outputs": []
    },
    {
      "cell_type": "markdown",
      "source": [
        "📌 8.9 对比总结\n",
        "\n",
        "| 指标  | 作用 | 适用场景 |\n",
        "|------|------|--------|\n",
        "| **MSE**  | 误差平方平均，放大异常值 | 关注大误差 |\n",
        "| **RMSE** | MSE 开平方，与真实值单位一致 | 直观解释误差 |\n",
        "| **MAE**  | 误差绝对值平均 | 抗异常值能力强 |\n",
        "| **MAPE** | 误差的相对百分比 | 适用于不同尺度数据 |\n",
        "| **R²**   | 解释模型的拟合程度 | 衡量整体效果 |\n",
        "| **EVS**  | 解释数据方差的能力 | 类似 R²，但不受缩放影响 |\n",
        "| **MSLE** | 计算对数误差 | 适用于指数增长问题 |\n",
        "| **PCC**  | 相关性分析 | 判断预测值与真实值的线性相关性 |\n",
        "\n",
        "---\n",
        "\n",
        "📌 8.10 结论\n",
        "\n",
        "✅ **如果你关注误差的实际大小**：使用 **MSE / RMSE / MAE**  \n",
        "✅ **如果你需要标准化的模型评价**：使用 **R² / EVS**  \n",
        "✅ **如果数据具有不同尺度**：使用 **MAPE**  \n",
        "✅ **如果数据分布有长尾效应（指数增长）**：使用 **MSLE**  \n",
        "✅ **如果你想分析预测值和真实值的相关性**：使用 **PCC**  \n"
      ],
      "metadata": {
        "id": "yvf9QztH_5BY"
      }
    },
    {
      "cell_type": "markdown",
      "source": [
        "\n",
        "# 7.Vissualization"
      ],
      "metadata": {
        "id": "d3Rnv159jSWP"
      }
    },
    {
      "cell_type": "code",
      "source": [
        "# check 归一化参数\n",
        "def scaler_checker(idx,scaler=joblib.load(\"scaler.pkl\")):\n",
        "  print(f'item:\\t{conf.DB_items[idx]}\\n'\n",
        "      f'min:\\t{scaler.data_min_[idx]:.2f} \\t\\t# 训练数据的最小值 (每列) \\n'\n",
        "      f'max:\\t{scaler.data_max_[idx]:.2f} \\t\\t# 训练数据的最大值 (每列) \\n'\n",
        "      f'range:\\t{scaler.data_range_[idx]:.2f} \\t\\t# max - min (每列) \\n'\n",
        "      f'offset:\\t{scaler.min_[idx]:.2f} \\t\\t# 归一化偏移量，计算公式：`-min * scaler`\\n'\n",
        "      f'scaler:\\t{scaler.scale_[idx]:.2f} \\t\\t# 归一化比例因子，计算公式：`1 / data_range_`\\n')"
      ],
      "metadata": {
        "id": "JtNyOwjYA_Eg"
      },
      "execution_count": null,
      "outputs": []
    },
    {
      "cell_type": "code",
      "source": [
        "for idx in range(1,len(conf.DB_items)):\n",
        "  scaler_checker(idx)"
      ],
      "metadata": {
        "id": "ODRWZcZ7eJvQ"
      },
      "execution_count": null,
      "outputs": []
    },
    {
      "cell_type": "markdown",
      "source": [
        "归一化公式：\n",
        "$$\n",
        "X_{\\text{scaled}} = \\frac{X - X_{\\min}}{X_{\\max} - X_{\\min}}\n",
        "$$\n",
        "\n",
        "反归一化：\n",
        "$$\n",
        "X_{\\text{original}} = X_{\\text{scaled}} \\times (X_{\\max} - X_{\\min}) + X_{\\min}\n",
        "$$\n",
        "\n",
        "Range:\n",
        "$$\n",
        "X_{\\text{range}} = X_{\\max} - X_{\\min}\n",
        "$$\n",
        "\n",
        "Offset:\n",
        "$$\n",
        "X_{\\text{offset}} = - X_{\\min} \\times X_{\\text{scaler}}\n",
        "$$\n",
        "\n",
        "Scaler:\n",
        "$$\n",
        "X_{\\text{scaler}} = \\frac{1}{X_{\\text{range}}}\n",
        "$$"
      ],
      "metadata": {
        "id": "OYP4L4qVgzur"
      }
    },
    {
      "cell_type": "code",
      "source": [
        "# 转换为 numpy 数组\n",
        "predictions_scaled   = np.array(predictions_scaled).copy()\n",
        "actual_values_scaled = np.array(actual_values_scaled).copy()\n",
        "\n",
        "# 反归一化\n",
        "reverse_nromalization = True\n",
        "if reverse_nromalization:\n",
        "  scaler          = joblib.load(\"scaler.pkl\")\n",
        "  scaler.min_     = scaler.min_[1:] # 只选择 scaler 的前 2 维\n",
        "  scaler.scale_   = scaler.scale_[1:]\n",
        "  predictions     = scaler.inverse_transform(predictions_scaled)\n",
        "  actual_values   = scaler.inverse_transform(actual_values_scaled)\n",
        "# 不做反归一化\n",
        "else:\n",
        "  predictions     = predictions_scaled\n",
        "  actual_values   = actual_values_scaled"
      ],
      "metadata": {
        "id": "bTXW7cwKjzGC"
      },
      "execution_count": null,
      "outputs": []
    },
    {
      "cell_type": "code",
      "source": [
        "# 定义绘图参数\n",
        "def plot_prediction_results(actual_values, predictions, target_idx):\n",
        "    \"\"\"\n",
        "    绘制预测结果分析图（预测 vs 真实值、误差分布、误差 vs 真实值）\n",
        "\n",
        "    参数：\n",
        "    - actual_values: 真实值的 NumPy 数组 (N, 2)\n",
        "    - predictions: 预测值的 NumPy 数组 (N, 2)\n",
        "    - target_idx: 目标变量索引（0 或 1）\n",
        "    - target_name: 目标变量的名称 (str)\n",
        "    \"\"\"\n",
        "    target_name = conf.DB_items[target_idx + 1].replace('\\n', ' ')  # skip temp\n",
        "    errors = predictions[:, target_idx] - actual_values[:, target_idx]\n",
        "\n",
        "    fig, axes = plt.subplots(1, 3, figsize=(18, 5))\n",
        "\n",
        "    # 1️⃣ 预测值 vs 真实值\n",
        "    axes[0].scatter(actual_values[:, target_idx], predictions[:, target_idx], c='blue', label='Predictions')\n",
        "    axes[0].plot([min(actual_values[:, target_idx]), max(actual_values[:, target_idx])],\n",
        "                 [min(actual_values[:, target_idx]), max(actual_values[:, target_idx])], 'r--', label='Ideal fit')\n",
        "    axes[0].set_xlabel(f'Actual Values ({target_name})')\n",
        "    axes[0].set_ylabel(f'Predicted Values ({target_name})')\n",
        "    axes[0].set_title(f'Predicted vs Actual Values ({target_name})')\n",
        "    axes[0].legend()\n",
        "    axes[0].grid(True)\n",
        "\n",
        "    # 2️⃣ 误差分布直方图\n",
        "    axes[1].hist(errors, bins=25, color='purple', edgecolor='black')\n",
        "    axes[1].set_xlabel(f'Prediction Error ({target_name})')\n",
        "    axes[1].set_ylabel('Frequency')\n",
        "    axes[1].set_title(f'Distribution of Prediction Errors ({target_name})')\n",
        "    axes[1].grid(True)\n",
        "\n",
        "    # 3️⃣ 误差 vs 真实值\n",
        "    axes[2].scatter(actual_values[:, target_idx], errors, c='green')\n",
        "    axes[2].axhline(y=0, color='r', linestyle='--')\n",
        "    axes[2].set_xlabel(f'Actual Values ({target_name})')\n",
        "    axes[2].set_ylabel(f'Prediction Error ({target_name})')\n",
        "    axes[2].set_title(f'Prediction Error vs Actual Values ({target_name})')\n",
        "    axes[2].grid(True)\n",
        "\n",
        "    plt.tight_layout()\n",
        "    plt.savefig(f'Prediction_Results.png')\n",
        "    plt.show()"
      ],
      "metadata": {
        "id": "Tnu_agM1nu8K"
      },
      "execution_count": null,
      "outputs": []
    },
    {
      "cell_type": "code",
      "source": [
        "# 调用函数绘制目标值 1 (Target 1)\n",
        "for idx in range(0,predictions.shape[1]):\n",
        "  plot_prediction_results(actual_values, predictions, target_idx=idx)"
      ],
      "metadata": {
        "id": "zyXRYNe6eQCe"
      },
      "execution_count": null,
      "outputs": []
    },
    {
      "cell_type": "markdown",
      "source": [
        "# 8.Save"
      ],
      "metadata": {
        "id": "jyC7ZYN4F2ri"
      }
    },
    {
      "cell_type": "code",
      "source": [
        "## Save file ##\n",
        "\n",
        "# 获取当前时间戳（格式：YYYYMMDD_HHMMSS）\n",
        "timestamp = datetime.now().strftime(\"%Y%m%d_%H%M%S\")\n",
        "\n",
        "# 获取模型类型\n",
        "model_type = type(model).__name__  # 提取模型类名，如 \"Improved3DCNN\"\n",
        "\n",
        "# 构造文件名\n",
        "file_name = f\"model_results_{model_type}_{timestamp}.pkl\"\n",
        "file_path = f\"/content/{file_name}\"  # Colab 默认存储路径\n",
        "\n",
        "# 创建保存字典\n",
        "results_dict = {\n",
        "    \"predictions\": predictions,\n",
        "    \"actual_values\": actual_values,\n",
        "    \"scaler\": scaler,\n",
        "    \"train_loss_history\": train_loss_history,\n",
        "    \"test_loss_history\": test_loss_history,\n",
        "    \"trainning_time\": trainning_time,\n",
        "    \"reasoning_time\": reasoning_time,\n",
        "    \"R2\": R2,\n",
        "    \"MSE\": MSE,\n",
        "    \"RMSE\": RMSE,\n",
        "    \"MAE\": MAE,\n",
        "    \"EVS\": EVS,\n",
        "    \"MSLE\": MSLE,\n",
        "    \"PCC\": PCC\n",
        "}\n",
        "\n",
        "# 记录开始时间\n",
        "save_start_time = time.time()\n",
        "\n",
        "# 保存到文件\n",
        "with open(file_path, \"wb\") as f:\n",
        "    pickle.dump(results_dict, f)\n",
        "    pickle.dump(model, f)\n",
        "\n",
        "# 记录结束时间\n",
        "save_end_time = time.time()\n",
        "save_time = save_end_time - save_start_time\n",
        "\n",
        "# 获取文件大小\n",
        "file_size_mb = os.path.getsize(file_path) / (1024 * 1024)\n",
        "\n",
        "# 打印文件信息\n",
        "print(f\"✅ 结果已保存到 {file_path}\")\n",
        "print(f\"💾 文件大小: {file_size_mb:.3f} MB\")\n",
        "print(f\"⏳ 保存耗时: {save_time:.4f} 秒\")\n",
        "print(f\"📂 下载文件名: {file_name}\")\n",
        "\n"
      ],
      "metadata": {
        "id": "30vMXExaF7E4"
      },
      "execution_count": null,
      "outputs": []
    },
    {
      "cell_type": "code",
      "source": [
        "## Post Check ##\n",
        "\n",
        "# 1️⃣ 读取保存的文件\n",
        "if os.path.exists(file_path):\n",
        "    with open(file_path, \"rb\") as f:\n",
        "        loaded_results = pickle.load(f)\n",
        "    print(\"✅ 成功加载 model_results.pkl\")\n",
        "else:\n",
        "    raise FileNotFoundError(f\"❌ 未找到文件: {file_path}\")\n",
        "\n",
        "# 2️⃣ 读取变量\n",
        "expected_keys = [\n",
        "    \"predictions\",\n",
        "    \"actual_values\",\n",
        "    \"scaler\",\n",
        "    \"train_loss_history\",\n",
        "    \"test_loss_history\",\n",
        "    \"test_loss_history\",\n",
        "    \"trainning_time\",\n",
        "    \"reasoning_time\",\n",
        "    \"R2\",\n",
        "    \"MSE\",\n",
        "    \"RMSE\",\n",
        "    \"MAE\",\n",
        "    \"EVS\",\n",
        "    \"MSLE\",\n",
        "    \"PCC\"\n",
        "]\n",
        "\n",
        "# 检查是否所有变量都正确存储\n",
        "missing_keys = [key for key in expected_keys if key not in loaded_results]\n",
        "if missing_keys:\n",
        "    print(f\"⚠️ 缺少变量: {missing_keys}\")\n",
        "else:\n",
        "    print(\"✅ 所有变量均已正确存储！\")\n",
        "\n",
        "# 3️⃣ 测试变量的长度和内容\n",
        "print(\"\\n📊 变量检查报告\")\n",
        "\n",
        "for key, value in loaded_results.items():\n",
        "    if isinstance(value, (list, tuple, set)):\n",
        "        print(f\"🔹 {key}: 长度 {len(value)}\")\n",
        "    elif isinstance(value, dict):\n",
        "        print(f\"🔹 {key}: 包含 {len(value.keys())} 个键\")\n",
        "    elif isinstance(value, (int, float, str)):\n",
        "        print(f\"🔹 {key}: 值 {value}\")\n",
        "    else:\n",
        "        print(f\"🔹 {key}: 类型 {type(value)}\")\n",
        "\n",
        "print(\"\\n✅ 核验完成！\")"
      ],
      "metadata": {
        "id": "6iQ7Jj64KOBR"
      },
      "execution_count": null,
      "outputs": []
    },
    {
      "cell_type": "code",
      "source": [
        "# 下载文件（仅限 Google Colab）\n",
        "from google.colab import files  # 仅在 Google Colab 运行\n",
        "files.download(file_path)\n",
        "\n",
        "# 等待10分钟确保下载完成\n",
        "def pause_execution(minutes=10):\n",
        "    \"\"\"\n",
        "    暂停代码执行指定的分钟数。\n",
        "\n",
        "    Args:\n",
        "        minutes (int): 暂停执行的分钟数，默认为 10。\n",
        "    \"\"\"\n",
        "    seconds = minutes * 60  # 将分钟转换为秒\n",
        "    time.sleep(seconds)  # 使用 time.sleep() 函数暂停执行\n",
        "    print(f\"✅ 已暂停 {minutes} 分钟，继续执行...\")\n",
        "\n",
        "print(\"开始执行...\")\n",
        "pause_execution()  # 暂停执行 10 分钟\n",
        "print(\"继续执行...\")"
      ],
      "metadata": {
        "id": "H1c-M0W5LUIN"
      },
      "execution_count": null,
      "outputs": []
    },
    {
      "cell_type": "code",
      "source": [
        "%%capture\n",
        "from google.colab import runtime\n",
        "runtime.unassign()"
      ],
      "metadata": {
        "id": "YogN458yHH2Q"
      },
      "execution_count": null,
      "outputs": []
    }
  ],
  "metadata": {
    "language_info": {
      "name": "python"
    },
    "colab": {
      "provenance": [],
      "machine_shape": "hm",
      "gpuType": "A100",
      "toc_visible": true,
      "include_colab_link": true
    },
    "kernelspec": {
      "name": "python3",
      "display_name": "Python 3"
    },
    "accelerator": "GPU"
  },
  "nbformat": 4,
  "nbformat_minor": 0
}