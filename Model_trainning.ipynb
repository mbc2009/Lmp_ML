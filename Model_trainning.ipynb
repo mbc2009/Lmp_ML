{
  "cells": [
    {
      "cell_type": "markdown",
      "metadata": {
        "id": "view-in-github",
        "colab_type": "text"
      },
      "source": [
        "<a href=\"https://colab.research.google.com/github/mbc2009/Lmp_ML/blob/main/Model_trainning.ipynb\" target=\"_parent\"><img src=\"https://colab.research.google.com/assets/colab-badge.svg\" alt=\"Open In Colab\"/></a>"
      ]
    },
    {
      "cell_type": "markdown",
      "source": [
        "# 0.Enviornment Initialization"
      ],
      "metadata": {
        "id": "5LSSxtHN4uqm"
      }
    },
    {
      "cell_type": "code",
      "source": [
        "%%capture\n",
        "%%bash\n",
        "\n",
        "# remove unnecessary\n",
        "rm -rf *\n",
        "\n",
        "# update pip\n",
        "python -m pip install --upgrade pip\n",
        "\n",
        "# install package\n",
        "pip install opencv-python pillow\n",
        "pip install segmentation_models_pytorch\n",
        "pip install -q kaggle\n",
        "pip install dropbox\n",
        "pip install scikit-image"
      ],
      "metadata": {
        "id": "VkjBZjG7RWAz"
      },
      "execution_count": 1,
      "outputs": []
    },
    {
      "cell_type": "code",
      "source": [
        "# basic import\n",
        "import  os, sys, time, math, random, math, psutil, h5py\n",
        "from    typing                  import  List, Tuple\n",
        "from    dropbox                 import  Dropbox\n",
        "from    tqdm                    import  tqdm\n",
        "from    matplotlib              import  pyplot      as plt\n",
        "import  numpy                                       as np\n",
        "import  pandas                                      as pd\n",
        "import  zipfile\n",
        "import  warnings\n",
        "import  shutil\n",
        "\n",
        "from    skimage                 import  io\n",
        "from    scipy                   import  interpolate\n",
        "from    scipy.interpolate       import  RegularGridInterpolator\n",
        "from    scipy.ndimage           import  generic_filter\n",
        "from    PIL                     import  Image\n",
        "\n",
        "import  torch\n",
        "from    torch                   import  nn\n",
        "from    torch.nn                import  functional  as F\n",
        "import  torch.optim                                 as optim\n",
        "import  torchvision.transforms.functional           as TF\n",
        "from    torch.utils.data        import  Dataset, DataLoader, TensorDataset, random_split, Subset\n",
        "from    torchvision             import  transforms, models\n",
        "from    torchvision.transforms  import  *\n",
        "import  kagglehub"
      ],
      "metadata": {
        "id": "ERcbfqGSXFT6"
      },
      "execution_count": 2,
      "outputs": []
    },
    {
      "cell_type": "code",
      "source": [
        "# check hardware\n",
        "print(f\"CPU core #:\\t{os.cpu_count()}\")\n",
        "print(f\"CPU threads #:\\t{psutil.cpu_count(logical=True)}\")\n",
        "print(f\"Total memory:\\t\\t{psutil.virtual_memory().total / (1024**3):.2f} GB\")\n",
        "if torch.cuda.is_available():\n",
        "    gpu_count = torch.cuda.device_count()\n",
        "    print(f\"available GPU #:\\t{gpu_count}\")\n",
        "    for i in range(gpu_count):\n",
        "        gpu_name = torch.cuda.get_device_name(i)\n",
        "        print(f\"GPU {i+1}:\\t\\t{gpu_name}\")\n",
        "else:\n",
        "    print(\"No available GPU\")"
      ],
      "metadata": {
        "colab": {
          "base_uri": "https://localhost:8080/"
        },
        "id": "AnJ7zHLJxbro",
        "outputId": "2e0c94b2-0868-4233-b7e4-cf243b7bf43d"
      },
      "execution_count": 3,
      "outputs": [
        {
          "output_type": "stream",
          "name": "stdout",
          "text": [
            "CPU core #:\t2\n",
            "CPU threads #:\t2\n",
            "Total memory:\t\t12.67 GB\n",
            "No available GPU\n"
          ]
        }
      ]
    },
    {
      "cell_type": "markdown",
      "source": [
        "# 1. Configuration"
      ],
      "metadata": {
        "id": "GBCVteWiX60Z"
      }
    },
    {
      "cell_type": "code",
      "source": [
        "class Confuration():\n",
        "  # define paths to directory\n",
        "  home_dir                = os.path.expanduser(\"~\")\n",
        "  working_dir             = os.path.join(os.getcwd(),'Lmp_ML')\n",
        "  DataBase_dir            = os.path.join(working_dir,'DataBase')\n",
        "  DB_3D_Grids_path        = os.path.join(DataBase_dir, '4', '3D_Grids.h5') # TODO: choose database version, here ver=4\n",
        "\n",
        "conf = Confuration()"
      ],
      "metadata": {
        "id": "FW2lJM8WXWUk"
      },
      "execution_count": 14,
      "outputs": []
    },
    {
      "cell_type": "code",
      "source": [
        "# import code from git hub\n",
        "!git clone https://github.com/mbc2009/Lmp_ML"
      ],
      "metadata": {
        "colab": {
          "base_uri": "https://localhost:8080/"
        },
        "id": "nla41gbQQuJ5",
        "outputId": "9ab503b8-7488-4dfd-d94c-293db493488f"
      },
      "execution_count": 5,
      "outputs": [
        {
          "output_type": "stream",
          "name": "stdout",
          "text": [
            "Cloning into 'Lmp_ML'...\n",
            "remote: Enumerating objects: 511, done.\u001b[K\n",
            "remote: Counting objects: 100% (61/61), done.\u001b[K\n",
            "remote: Compressing objects: 100% (53/53), done.\u001b[K\n",
            "remote: Total 511 (delta 21), reused 11 (delta 4), pack-reused 450 (from 3)\u001b[K\n",
            "Receiving objects: 100% (511/511), 128.60 MiB | 9.28 MiB/s, done.\n",
            "Resolving deltas: 100% (237/237), done.\n"
          ]
        }
      ]
    },
    {
      "cell_type": "code",
      "source": [
        "# make directory\n",
        "os.makedirs(conf.DataBase_dir, exist_ok=True)"
      ],
      "metadata": {
        "id": "pjO4Z6FqrZgE"
      },
      "execution_count": 6,
      "outputs": []
    },
    {
      "cell_type": "code",
      "source": [
        "# download\n",
        "original_path = kagglehub.dataset_download(\"mbc2009/heat-and-mass-transfer\",force_download=True)\n",
        "shutil.move(original_path, conf.DataBase_dir)"
      ],
      "metadata": {
        "colab": {
          "base_uri": "https://localhost:8080/",
          "height": 125
        },
        "id": "z_1Gn-B1mOa9",
        "outputId": "32f79099-9ac4-4904-9f03-acf25a1e4096"
      },
      "execution_count": 7,
      "outputs": [
        {
          "output_type": "stream",
          "name": "stdout",
          "text": [
            "Downloading from https://www.kaggle.com/api/v1/datasets/download/mbc2009/heat-and-mass-transfer?dataset_version_number=4...\n"
          ]
        },
        {
          "output_type": "stream",
          "name": "stderr",
          "text": [
            "100%|██████████| 773M/773M [00:19<00:00, 41.4MB/s]"
          ]
        },
        {
          "output_type": "stream",
          "name": "stdout",
          "text": [
            "Extracting files...\n"
          ]
        },
        {
          "output_type": "stream",
          "name": "stderr",
          "text": [
            "\n"
          ]
        },
        {
          "output_type": "execute_result",
          "data": {
            "text/plain": [
              "'/content/Lmp_ML/DataBase/4'"
            ],
            "application/vnd.google.colaboratory.intrinsic+json": {
              "type": "string"
            }
          },
          "metadata": {},
          "execution_count": 7
        }
      ]
    },
    {
      "cell_type": "markdown",
      "source": [
        "# 2. Functions and Classes"
      ],
      "metadata": {
        "id": "cJevHupf53MM"
      }
    },
    {
      "cell_type": "code",
      "source": [
        "def check_hdf5_content(file_path:str,PrintStrcut=False)->int:\n",
        "  '''\n",
        "  check the content (name, quantity) of hdf5 file\n",
        "  input:\n",
        "    file_path: the path of hdf5 file\n",
        "    PrintStrcut: print the structure of hdf5 file\n",
        "  return:\n",
        "    the name and quantity of variables in hdf5 file\n",
        "  '''\n",
        "  # 初始化数据集计数器\n",
        "  dataset_count = 0\n",
        "\n",
        "  # 定义一个内部函数用于遍历 HDF5 文件内部\n",
        "  def count_datasets(name, obj):\n",
        "        nonlocal dataset_count\n",
        "        if isinstance(obj, h5py.Dataset):  # 判断是否为数据集\n",
        "            dataset_count += 1\n",
        "        elif isinstance(obj, h5py.Group):  # 判断是否为组\n",
        "            pass  # 如果是组，不计数\n",
        "\n",
        "  with h5py.File(file_path, \"r\") as h5f:\n",
        "\n",
        "        # 遍历文件内容以计数\n",
        "        h5f.visititems(count_datasets)\n",
        "\n",
        "        # 打印所有内变量名字\n",
        "        if PrintStrcut:\n",
        "          print(f\"文件结构:\")\n",
        "          h5f.visit(print)\n",
        "\n",
        "  print(f'文件数: {dataset_count}')\n",
        "\n",
        "  return dataset_count # 文件数\n"
      ],
      "metadata": {
        "id": "YcLDL7kX52K2"
      },
      "execution_count": null,
      "outputs": []
    },
    {
      "cell_type": "markdown",
      "source": [
        "# 3.Prepare Data Base"
      ],
      "metadata": {
        "id": "XNATVGXi3qJS"
      }
    },
    {
      "cell_type": "markdown",
      "source": [
        "## 3.1.Check data base"
      ],
      "metadata": {
        "id": "DJ1Jn8Oo4qm1"
      }
    },
    {
      "cell_type": "code",
      "source": [
        "num_grids = check_hdf5_content(conf.DB_3D_Grids_path)"
      ],
      "metadata": {
        "id": "OinYQCkb46xc",
        "colab": {
          "base_uri": "https://localhost:8080/"
        },
        "outputId": "478f85fa-f57d-4889-9ee0-958cc928d64c"
      },
      "execution_count": 18,
      "outputs": [
        {
          "output_type": "stream",
          "name": "stdout",
          "text": [
            "文件数: 836\n"
          ]
        }
      ]
    },
    {
      "cell_type": "code",
      "source": [
        "DB_3D_Grids = h5py.File(conf.DB_3D_Grids_path, \"r\")\n",
        "GA = DB_3D_Grids[f\"len_{2}_sigma_{8}_{343}\"][:]\n",
        "print(f'矩阵形状: {GA.shape}')"
      ],
      "metadata": {
        "id": "VD-kiwaI6UGt",
        "outputId": "5c72cd3e-0e3d-4fc1-b434-e0771bcd9291",
        "colab": {
          "base_uri": "https://localhost:8080/"
        }
      },
      "execution_count": 23,
      "outputs": [
        {
          "output_type": "stream",
          "name": "stdout",
          "text": [
            "矩阵形状: (400, 400, 400)\n"
          ]
        }
      ]
    }
  ],
  "metadata": {
    "language_info": {
      "name": "python"
    },
    "colab": {
      "provenance": [],
      "include_colab_link": true
    },
    "kernelspec": {
      "name": "python3",
      "display_name": "Python 3"
    }
  },
  "nbformat": 4,
  "nbformat_minor": 0
}