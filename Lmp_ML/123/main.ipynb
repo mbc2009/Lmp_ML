{
  "cells": [
    {
      "cell_type": "code",
      "execution_count": 3,
      "metadata": {
        "vscode": {
          "languageId": "plaintext"
        },
        "colab": {
          "base_uri": "https://localhost:8080/"
        },
        "id": "FZg3wlTp1HaJ",
        "outputId": "101de65f-2c1c-41fe-8312-f33e2172c5d9"
      },
      "outputs": [
        {
          "output_type": "stream",
          "name": "stdout",
          "text": [
            "Cloning into 'Lmp_ML'...\n",
            "remote: Enumerating objects: 459, done.\u001b[K\n",
            "remote: Counting objects: 100% (9/9), done.\u001b[K\n",
            "remote: Compressing objects: 100% (6/6), done.\u001b[K\n",
            "remote: Total 459 (delta 2), reused 7 (delta 2), pack-reused 450 (from 3)\u001b[K\n",
            "Receiving objects: 100% (459/459), 128.56 MiB | 17.27 MiB/s, done.\n",
            "Resolving deltas: 100% (218/218), done.\n",
            "Updating files: 100% (217/217), done.\n"
          ]
        }
      ],
      "source": [
        "# 从 git hub 导入仓库\n",
        "!git clone https://github.com/mbc2009/Lmp_ML\n"
      ]
    }
  ],
  "metadata": {
    "language_info": {
      "name": "python"
    },
    "colab": {
      "provenance": []
    },
    "kernelspec": {
      "name": "python3",
      "display_name": "Python 3"
    }
  },
  "nbformat": 4,
  "nbformat_minor": 0
}